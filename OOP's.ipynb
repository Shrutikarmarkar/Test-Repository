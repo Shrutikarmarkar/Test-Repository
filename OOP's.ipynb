{
  "nbformat": 4,
  "nbformat_minor": 0,
  "metadata": {
    "colab": {
      "provenance": []
    },
    "kernelspec": {
      "name": "python3",
      "display_name": "Python 3"
    },
    "language_info": {
      "name": "python"
    }
  },
  "cells": [
    {
      "cell_type": "code",
      "execution_count": null,
      "metadata": {
        "colab": {
          "base_uri": "https://localhost:8080/"
        },
        "id": "hWxTX0T70VUT",
        "outputId": "f46f8364-cf8b-400b-f829-ad82eb4c3382"
      },
      "outputs": [
        {
          "output_type": "stream",
          "name": "stdout",
          "text": [
            "Object Created Successfully!\n",
            "Name of the Person : Ai Adventures\n",
            "Age of the Person : 35\n",
            "Hobby of the Person : Drawing\n",
            "Favourite colour of the Person : Red\n"
          ]
        }
      ],
      "source": [
        "#OOP Practice Questions\n",
        "#easy\n",
        "class Display_Info():\n",
        "\n",
        "    def __init__(self,name,age,hobby,colour):\n",
        "      self.name = name\n",
        "      self.age = age\n",
        "      self.hobby = hobby\n",
        "      self.colour = colour\n",
        "      print(\"Object Created Successfully!\")\n",
        "\n",
        "    def display(self):\n",
        "      print(\"Name of the Person : \" + self.name)\n",
        "      print(\"Age of the Person : \" + str(self.age))\n",
        "      print(\"Hobby of the Person : \" + self.hobby)\n",
        "      print(\"Favourite colour of the Person : \" + self.colour)\n",
        "\n",
        "\n",
        "di1 = Display_Info('Ai Adventures',35,'Drawing','Red')\n",
        "di1.display()"
      ]
    },
    {
      "cell_type": "code",
      "source": [
        "class Circle():\n",
        "\n",
        "    def __init__(self,radius):\n",
        "      self.radius = radius\n",
        "\n",
        "    def area(self):\n",
        "      return 3.14*self.radius*self.radius\n",
        "\n",
        "    def perimeter(self):\n",
        "      return 2*3.14*self.radius\n",
        "\n",
        "c1 = Circle(8)\n",
        "print(\"Area of the Circle c1 : \",c1.area())\n",
        "c2 = Circle(17)\n",
        "print(\"Perimeter of the Circle c2 : \",c2.perimeter())"
      ],
      "metadata": {
        "colab": {
          "base_uri": "https://localhost:8080/"
        },
        "id": "TlMnP7gS2QGp",
        "outputId": "f1326b19-534e-415a-d7a5-4cfc853245b7"
      },
      "execution_count": null,
      "outputs": [
        {
          "output_type": "stream",
          "name": "stdout",
          "text": [
            "Area of the Circle c1 :  200.96\n",
            "Perimeter of the Circle c2 :  106.76\n"
          ]
        }
      ]
    },
    {
      "cell_type": "code",
      "source": [
        "class marks_calculation():\n",
        "\n",
        "    def __init__(self):\n",
        "      self.marks = {}\n",
        "\n",
        "    def percentage(self):\n",
        "      list1 = ['English','Geometry','History','Science','Geography']\n",
        "      for sub in list1:\n",
        "        self.marks[sub] = int(input(\"Enter the marks for \" + sub + \" out of 100 :\"))\n",
        "      return (sum(self.marks.values())*100)/500\n",
        "\n",
        "m1 = marks_calculation()\n",
        "\n",
        "print(\"Percentage : \",m1.percentage())\n",
        "m1.marks"
      ],
      "metadata": {
        "colab": {
          "base_uri": "https://localhost:8080/"
        },
        "id": "EUbKiwyS4CEc",
        "outputId": "eae63bb7-24ad-448f-c646-48c5637815ac"
      },
      "execution_count": null,
      "outputs": [
        {
          "output_type": "stream",
          "name": "stdout",
          "text": [
            "Enter the marks for English out of 100 :90\n",
            "Enter the marks for Geometry out of 100 :80\n",
            "Enter the marks for History out of 100 :70\n",
            "Enter the marks for Science out of 100 :60\n",
            "Enter the marks for Geography out of 100 :50\n",
            "Percentage :  70.0\n"
          ]
        },
        {
          "output_type": "execute_result",
          "data": {
            "text/plain": [
              "{'English': 90, 'Geometry': 80, 'History': 70, 'Science': 60, 'Geography': 50}"
            ]
          },
          "metadata": {},
          "execution_count": 5
        }
      ]
    },
    {
      "cell_type": "code",
      "source": [
        "class BankAccount():\n",
        "\n",
        "  def __init__(self,balance,min_balance=1000):\n",
        "      self.balance = balance\n",
        "      self.min_balance = min_balance\n",
        "\n",
        "  def withdraw(self,amount):\n",
        "    self.amount = self.balance - amount\n",
        "    if amount<self.min_balance:\n",
        "      print(\"Withdrawal denied! Cannot let balance cross the min_balance limit!\")\n",
        "      print(\"Account balance if this withdrawal is allowed : ₹\",amount)\n",
        "    else:\n",
        "      print(\"Withdrawal successful!\")\n",
        "      self.balance = self.amount\n",
        "      print(\"New Account Balance : ₹\", self.balance)\n",
        "\n",
        "  def deposit(self,amount):\n",
        "    self.amount = amount\n",
        "    self.balance += self.amount\n",
        "    print(\"Deposit successful!\")\n",
        "    print(\"New Account Balance : ₹\",self.balance)\n",
        "\n",
        "\n",
        "b1 = BankAccount(3000)\n",
        "b1.withdraw(2000)"
      ],
      "metadata": {
        "colab": {
          "base_uri": "https://localhost:8080/"
        },
        "id": "xwH6Jc9o7MDP",
        "outputId": "192a4615-9b5b-4e06-b442-85834e178cff"
      },
      "execution_count": null,
      "outputs": [
        {
          "output_type": "stream",
          "name": "stdout",
          "text": [
            "Withdrawal successful!\n",
            "New Account Balance : ₹ 1000\n"
          ]
        }
      ]
    },
    {
      "cell_type": "code",
      "source": [
        "b1.withdraw(500)"
      ],
      "metadata": {
        "colab": {
          "base_uri": "https://localhost:8080/"
        },
        "id": "nOlECW1UAsZi",
        "outputId": "057d54ec-a51b-4335-cd8e-14ad0b66d213"
      },
      "execution_count": null,
      "outputs": [
        {
          "output_type": "stream",
          "name": "stdout",
          "text": [
            "Withdrawal denied! Cannot let balance cross the min_balance limit!\n",
            "Account balance if this withdrawal is allowed : ₹ 500\n"
          ]
        }
      ]
    },
    {
      "cell_type": "code",
      "source": [
        "b1.deposit(1000)"
      ],
      "metadata": {
        "colab": {
          "base_uri": "https://localhost:8080/"
        },
        "id": "SfkHzNw_BshH",
        "outputId": "328deeaf-f306-4429-f1f0-c97f44988d74"
      },
      "execution_count": null,
      "outputs": [
        {
          "output_type": "stream",
          "name": "stdout",
          "text": [
            "Deposit successful!\n",
            "New Account Balance : ₹ 2000\n"
          ]
        }
      ]
    },
    {
      "cell_type": "code",
      "source": [
        "#Medium\n",
        "class Point:\n",
        "\n",
        "    def __init__(self,x,y):\n",
        "      self.x = x\n",
        "      self.y = y\n",
        "      print(f\"Point ({self.x},{self.y}) created!\")\n",
        "\n",
        "    def length(self,x,y):\n",
        "     self.xx = x\n",
        "     self.yy = y\n",
        "     return f\"({self.xx},{self.yy})\"\n",
        "\n",
        "    def __add__(self,other):\n",
        "      new_x = self.x + other.x\n",
        "      new_y = self.y + other.y\n",
        "      return self.length(new_x,new_y)\n",
        "\n",
        "\n",
        "    def __sub__(self,other):\n",
        "      new_x = self.x - other.x\n",
        "      new_y = self.y - other.y\n",
        "      return self.length(new_x,new_y)\n",
        "\n",
        "    def __mul__(self,other):\n",
        "      new_x = self.x * other.x\n",
        "      new_y = self.y * other.y\n",
        "      return new_x+new_y\n",
        "\n",
        "    def __truediv__(self,other):\n",
        "      new_x = self.x / other.x\n",
        "      new_y = self.y / other.y\n",
        "      return self.length(new_x,new_y)\n",
        "\n",
        "    def __gt__(self,other):\n",
        "      return (self.x**2 + self.y**2) > (other.x**2+other.y**2)\n",
        "\n",
        "    def __ge__(self,other):\n",
        "      return (self.x**2 + self.y**2) >= (other.x**2+other.y**2)\n",
        "\n",
        "    def __lt__(self,other):\n",
        "      return (self.x**2 + self.y**2) < (other.x**2+other.y**2)\n",
        "\n",
        "    def __le__(self,other):\n",
        "      return (self.x**2 + self.y**2) <= (other.x**2+other.y**2)\n",
        "\n",
        "    def __eq__(self,other):\n",
        "      return self.x == other.x and self.y == other.y\n",
        "\n",
        "\n",
        "p1 = Point(10,5)\n",
        "p2 = Point(5,10)\n",
        "\n",
        "print(p1 + p2)\n",
        "print(p1 - p2)\n",
        "print(p1 * p2)\n",
        "print(p1 / p2)\n",
        "print(p1 > p2)\n",
        "print(p1 >= p2)\n",
        "print(p1 < p2)\n",
        "print(p1 <= p2)\n",
        "print(p1 == p2)"
      ],
      "metadata": {
        "colab": {
          "base_uri": "https://localhost:8080/"
        },
        "id": "RiDolC5iBxdy",
        "outputId": "ce7420ba-43c4-4149-a18a-d9f8ddc24286"
      },
      "execution_count": null,
      "outputs": [
        {
          "output_type": "stream",
          "name": "stdout",
          "text": [
            "Point (10,5) created!\n",
            "Point (5,10) created!\n",
            "(15,15)\n",
            "(5,-5)\n",
            "100\n",
            "(2.0,0.5)\n",
            "False\n",
            "True\n",
            "False\n",
            "True\n",
            "False\n"
          ]
        }
      ]
    },
    {
      "cell_type": "code",
      "source": [
        "class Course:\n",
        "\n",
        "    def __init__(self,course=\"Machine Learning\"):\n",
        "      self.course = course\n",
        "\n",
        "    def average_score(self):\n",
        "      input1 = input(\"Enter the marks scored out of 10 : \").split()\n",
        "      score = [int(num) for num in input1]\n",
        "      avg_score = sum(score)/5\n",
        "      return avg_score\n",
        "\n",
        "class student(Course):\n",
        "\n",
        "  def __init__(self,name,age):\n",
        "     Course.__init__(self)\n",
        "     self.name = name\n",
        "     self.age = age\n",
        "     print(f\"Aiadventures, age {self.age}, has enrolled in {self.course} course!\")\n",
        "\n",
        "  def display_info(self):\n",
        "    print(\"Average Score of Aiadventures in Machine Learning course :\",super().average_score())\n",
        "\n",
        "s1 = student('Aiadventures',35)\n",
        "s1.display_info()"
      ],
      "metadata": {
        "id": "1yoJd8k8OcVr",
        "colab": {
          "base_uri": "https://localhost:8080/"
        },
        "outputId": "7b256b93-ef4f-4c6e-9ba9-dc801f847480"
      },
      "execution_count": null,
      "outputs": [
        {
          "output_type": "stream",
          "name": "stdout",
          "text": [
            "Aiadventures, age 35, has enrolled in Machine Learning course!\n",
            "Enter the marks scored out of 10 : 6 7 8 9 10\n",
            "Average Score of Aiadventures in Machine Learning course : 8.0\n"
          ]
        }
      ]
    },
    {
      "cell_type": "code",
      "source": [
        "#Hard\n",
        "import random\n",
        "\n",
        "class Team_Performance:\n",
        "\n",
        "  def __init__(self):\n",
        "     pass\n",
        "\n",
        "  def play(self):\n",
        "    self.team = {}\n",
        "    self.runs = []\n",
        "    self.wickets = 0\n",
        "    list1 = ['B1','B2','B3','B4','B5','B6']\n",
        "\n",
        "    for balls in list1:\n",
        "      for i in range(6):\n",
        "        num = random.randint(0,6)\n",
        "        while num==5:\n",
        "          num = random.randint(0,6)\n",
        "        else:\n",
        "          self.team[list1[i]] = num\n",
        "\n",
        "    self.runs = list(self.team.values())\n",
        "    self.wickets = self.runs.count(0)\n",
        "\n",
        "\n",
        "class Superover(Team_Performance):\n",
        "\n",
        "    def __init__(self,team1,team2):\n",
        "      self.team1 = team1\n",
        "      self.team2 = team2\n",
        "      print(f\"Let's begin the Superover between {self.team1} and {self.team2}!\")\n",
        "\n",
        "    def begin(self):\n",
        "        self.play()\n",
        "        print(f\"Performance of {self.team1} : {self.team}\")\n",
        "        print(f\"Scorecard of {sum(self.runs)} / {self.wickets}\")\n",
        "        runs1 = sum(self.runs)\n",
        "\n",
        "        self.play()\n",
        "        print(f\"Performance of {self.team2} : {self.team}\")\n",
        "        print(f\"Scorecard of {sum(self.runs)} / {self.wickets}\")\n",
        "        runs2 = sum(self.runs)\n",
        "\n",
        "        if runs1>runs2:\n",
        "          print(f\"{self.team1} wins by {(runs1)-(runs2)} runs!\")\n",
        "        elif runs1<runs2:\n",
        "          print(f\"{self.team2} wins by {(runs2)-(runs1)} runs!\")\n",
        "        else:\n",
        "          print(\"Its a Draw!\")\n",
        "\n",
        "\n",
        "match = Superover('A','B')\n",
        "match.begin()"
      ],
      "metadata": {
        "id": "WnpT3TlEB7Ds",
        "colab": {
          "base_uri": "https://localhost:8080/"
        },
        "outputId": "e02b7e2b-a9d6-4127-eb4d-afbaac76c4d2"
      },
      "execution_count": null,
      "outputs": [
        {
          "output_type": "stream",
          "name": "stdout",
          "text": [
            "Let's begin the Superover between A and B!\n",
            "Performance of A : {'B1': 2, 'B2': 2, 'B3': 3, 'B4': 1, 'B5': 0, 'B6': 4}\n",
            "Scorecard of 12 / 1\n",
            "Performance of B : {'B1': 1, 'B2': 3, 'B3': 6, 'B4': 4, 'B5': 2, 'B6': 0}\n",
            "Scorecard of 16 / 1\n",
            "B wins by 4 runs!\n"
          ]
        }
      ]
    },
    {
      "cell_type": "code",
      "source": [
        "import random\n",
        "class Player:\n",
        "  number_of_steps = 0\n",
        "\n",
        "  def __init__(self,name,distance=0):\n",
        "      self.name = name\n",
        "      self.distance = distance\n",
        "      self.roadmap={}\n",
        "\n",
        "  def walk(self):\n",
        "    self.distance += 0.5\n",
        "    self.number_of_steps += 1\n",
        "    self.roadmap[self.distance] = \"Walk\"\n",
        "\n",
        "\n",
        "  def run(self):\n",
        "    self.distance += 1\n",
        "    self.number_of_steps += 1\n",
        "    self.roadmap[self.distance] = \"Run\"\n",
        "\n",
        "\n",
        "  def jump(self):\n",
        "    self.distance += 2\n",
        "    self.number_of_steps += 1\n",
        "    self.roadmap[self.distance] = \"Run\"\n",
        "\n",
        "\n",
        "class Race:\n",
        "\n",
        "  def __init__(self):\n",
        "    pass\n",
        "\n",
        "  def number_generator(self):\n",
        "    self.num = random.randint(1,100)\n",
        "    return self.num\n",
        "\n",
        "  def start(self,p1,p2):\n",
        "    while True:\n",
        "      num = self.number_generator()\n",
        "\n",
        "      if num%2==0:\n",
        "        p1.run()\n",
        "      else:\n",
        "        flag = False\n",
        "        for i in range(2,int(num/2)):\n",
        "          if num%i==0:\n",
        "            flag = True\n",
        "            break\n",
        "        if flag == False or num==1:\n",
        "          p1.jump()\n",
        "        else:\n",
        "          p1.walk()\n",
        "      if p1.distance>=20:\n",
        "        steps = p1.number_of_steps\n",
        "        break\n",
        "\n",
        "    while True:\n",
        "      num = self.number_generator()\n",
        "\n",
        "      if num%2==0:\n",
        "        p2.run()\n",
        "      else:\n",
        "        flag = False\n",
        "        for i in range(2,int(num/2)):\n",
        "          if num%i==0:\n",
        "            flag = True\n",
        "            break\n",
        "        if flag == False or num==1:\n",
        "          p2.jump()\n",
        "        else:\n",
        "          p2.walk()\n",
        "      if p2.distance>=20:\n",
        "        steps2 = p2.number_of_steps\n",
        "        break\n",
        "\n",
        "    if steps<=steps2:\n",
        "        print(f\"{p1.name} won the race with {p1.number_of_steps} steps!\")\n",
        "        print(f\"Roadmap of {p1.name} : \",p1.roadmap)\n",
        "        print(f\"{p2.name} lost the race and took {p2.number_of_steps} steps!\")\n",
        "        print(f\"Roadmap of {p2.name} : \",p2.roadmap)\n",
        "    else:\n",
        "      print(f\"{p2.name} won the race with {p2.number_of_steps} steps!\")\n",
        "      print(f\"Roadmap of {p2.name} : \",p2.roadmap)\n",
        "      print(f\"{p1.name} lost the race and took {p1.number_of_steps} steps!\")\n",
        "      print(f\"Roadmap of {p1.name} : \",p1.roadmap)\n",
        "\n",
        "\n",
        "p1 = Player('P1')\n",
        "p2 = Player('P2')\n",
        "race = Race()\n",
        "race.start(p1,p2)"
      ],
      "metadata": {
        "id": "okah7RGIsuvJ",
        "colab": {
          "base_uri": "https://localhost:8080/"
        },
        "outputId": "4d16137a-860d-4a01-d22f-5e3f56b31589"
      },
      "execution_count": null,
      "outputs": [
        {
          "output_type": "stream",
          "name": "stdout",
          "text": [
            "P2 won the race with 20 steps!\n",
            "Roadmap of P2 :  {2: 'Run', 3: 'Run', 5: 'Run', 5.5: 'Walk', 6.0: 'Walk', 7.0: 'Run', 7.5: 'Walk', 8.5: 'Run', 9.5: 'Run', 10.5: 'Run', 11.5: 'Run', 12.5: 'Run', 14.5: 'Run', 15.0: 'Walk', 16.0: 'Run', 16.5: 'Walk', 17.5: 'Run', 18.5: 'Run', 19.5: 'Run', 21.5: 'Run'}\n",
            "P1 lost the race and took 22 steps!\n",
            "Roadmap of P1 :  {1: 'Run', 2: 'Run', 4: 'Run', 5: 'Run', 5.5: 'Walk', 6.0: 'Walk', 6.5: 'Walk', 7.0: 'Walk', 7.5: 'Walk', 9.5: 'Run', 10.5: 'Run', 11.0: 'Walk', 13.0: 'Run', 14.0: 'Run', 15.0: 'Run', 16.0: 'Run', 16.5: 'Walk', 17.5: 'Run', 18.0: 'Walk', 18.5: 'Walk', 19.0: 'Walk', 20.0: 'Run'}\n"
          ]
        }
      ]
    },
    {
      "cell_type": "code",
      "source": [],
      "metadata": {
        "id": "MjN7eaSAQ65a"
      },
      "execution_count": null,
      "outputs": []
    },
    {
      "cell_type": "code",
      "source": [],
      "metadata": {
        "id": "o2vRZ0Y9F33R",
        "colab": {
          "base_uri": "https://localhost:8080/"
        },
        "outputId": "257cebcf-defc-440c-941f-e51954af345d"
      },
      "execution_count": null,
      "outputs": [
        {
          "output_type": "execute_result",
          "data": {
            "text/plain": [
              "0"
            ]
          },
          "metadata": {},
          "execution_count": 7
        }
      ]
    },
    {
      "cell_type": "code",
      "source": [],
      "metadata": {
        "id": "bhsHdz6gII1B"
      },
      "execution_count": null,
      "outputs": []
    }
  ]
}