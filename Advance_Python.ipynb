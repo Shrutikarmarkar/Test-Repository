{
  "nbformat": 4,
  "nbformat_minor": 0,
  "metadata": {
    "colab": {
      "provenance": []
    },
    "kernelspec": {
      "name": "python3",
      "display_name": "Python 3"
    },
    "language_info": {
      "name": "python"
    }
  },
  "cells": [
    {
      "cell_type": "code",
      "execution_count": null,
      "metadata": {
        "colab": {
          "base_uri": "https://localhost:8080/"
        },
        "id": "HuePEHaDGdKP",
        "outputId": "114f44dd-814d-49fd-c8cb-fb29cc03a529"
      },
      "outputs": [
        {
          "output_type": "execute_result",
          "data": {
            "text/plain": [
              "[112, 119, 126, 133, 140, 147, 154, 161, 168, 175, 182, 189, 196]"
            ]
          },
          "metadata": {},
          "execution_count": 2
        }
      ],
      "source": [
        "#Advance Python Questions\n",
        "[i for i in range(111,200) if i%7==0]"
      ]
    },
    {
      "cell_type": "code",
      "source": [
        "{str(k):(float(k),k**2) for k in range(5) }"
      ],
      "metadata": {
        "id": "NMh2AkquHBXe",
        "colab": {
          "base_uri": "https://localhost:8080/"
        },
        "outputId": "ae8abd4c-01ba-4681-80f1-3905bd8d82a5"
      },
      "execution_count": null,
      "outputs": [
        {
          "output_type": "execute_result",
          "data": {
            "text/plain": [
              "{'0': (0.0, 0), '1': (1.0, 1), '2': (2.0, 4), '3': (3.0, 9), '4': (4.0, 16)}"
            ]
          },
          "metadata": {},
          "execution_count": 6
        }
      ]
    },
    {
      "cell_type": "code",
      "source": [
        "{k:True if (len(str(k))>1) else False for k in [1,75,865,2,84,6,7]}"
      ],
      "metadata": {
        "colab": {
          "base_uri": "https://localhost:8080/"
        },
        "id": "FzT0IHgLiWgV",
        "outputId": "dddcbda8-64f9-414f-91df-90cb278a3125"
      },
      "execution_count": null,
      "outputs": [
        {
          "output_type": "execute_result",
          "data": {
            "text/plain": [
              "{1: False, 75: True, 865: True, 2: False, 84: True, 6: False, 7: False}"
            ]
          },
          "metadata": {},
          "execution_count": 11
        }
      ]
    },
    {
      "cell_type": "code",
      "source": [
        "{k for k in range(1000) if k %7==0 and k%8==0}"
      ],
      "metadata": {
        "colab": {
          "base_uri": "https://localhost:8080/"
        },
        "id": "rFY_LbhtmQJL",
        "outputId": "809dbe98-3a3b-4310-97fe-4f1a10c59818"
      },
      "execution_count": null,
      "outputs": [
        {
          "output_type": "execute_result",
          "data": {
            "text/plain": [
              "{0,\n",
              " 56,\n",
              " 112,\n",
              " 168,\n",
              " 224,\n",
              " 280,\n",
              " 336,\n",
              " 392,\n",
              " 448,\n",
              " 504,\n",
              " 560,\n",
              " 616,\n",
              " 672,\n",
              " 728,\n",
              " 784,\n",
              " 840,\n",
              " 896,\n",
              " 952}"
            ]
          },
          "metadata": {},
          "execution_count": 12
        }
      ]
    },
    {
      "cell_type": "code",
      "source": [
        "def number_operation(lst):\n",
        "  lst1 = [int(x) for x in lst]\n",
        "  return lst1\n",
        "\n",
        "lst = input(\"Enter the input numbers: \").split()\n",
        "new_lst = number_operation(lst)\n",
        "print(\"Sum of Input Numbers : \" + str(sum(new_lst)))\n",
        "{float(k):float(k**(1/2)) for k in new_lst[::-1]}"
      ],
      "metadata": {
        "id": "kw02txY3pTNL",
        "colab": {
          "base_uri": "https://localhost:8080/"
        },
        "outputId": "ec5d4bea-26bc-4efa-97d9-a41fd577a4ea"
      },
      "execution_count": null,
      "outputs": [
        {
          "output_type": "stream",
          "name": "stdout",
          "text": [
            "Enter the input numbers: 1 2 3 4 5 6 7 8 9 10\n",
            "Sum of Input Numbers : 55\n"
          ]
        },
        {
          "output_type": "execute_result",
          "data": {
            "text/plain": [
              "{10.0: 3.1622776601683795,\n",
              " 9.0: 3.0,\n",
              " 8.0: 2.8284271247461903,\n",
              " 7.0: 2.6457513110645907,\n",
              " 6.0: 2.449489742783178,\n",
              " 5.0: 2.23606797749979,\n",
              " 4.0: 2.0,\n",
              " 3.0: 1.7320508075688772,\n",
              " 2.0: 1.4142135623730951,\n",
              " 1.0: 1.0}"
            ]
          },
          "metadata": {},
          "execution_count": 11
        }
      ]
    },
    {
      "cell_type": "code",
      "source": [
        "def is_vowel(string1):\n",
        "    vowel = ['a','e','i','o','u']\n",
        "    return {s:(1,True) if s in vowel else (0,False) for s in string1}\n",
        "\n",
        "\n",
        "string1 = \"practice problems to drill list comprehension in your head.\"\n",
        "is_vowel(string1)"
      ],
      "metadata": {
        "colab": {
          "base_uri": "https://localhost:8080/"
        },
        "id": "scxOOfJFIusa",
        "outputId": "df89eece-a9f7-4ebe-8cb9-4dc070296efc"
      },
      "execution_count": null,
      "outputs": [
        {
          "output_type": "execute_result",
          "data": {
            "text/plain": [
              "{'p': (0, False),\n",
              " 'r': (0, False),\n",
              " 'a': (1, True),\n",
              " 'c': (0, False),\n",
              " 't': (0, False),\n",
              " 'i': (1, True),\n",
              " 'e': (1, True),\n",
              " ' ': (0, False),\n",
              " 'o': (1, True),\n",
              " 'b': (0, False),\n",
              " 'l': (0, False),\n",
              " 'm': (0, False),\n",
              " 's': (0, False),\n",
              " 'd': (0, False),\n",
              " 'h': (0, False),\n",
              " 'n': (0, False),\n",
              " 'y': (0, False),\n",
              " 'u': (1, True),\n",
              " '.': (0, False)}"
            ]
          },
          "metadata": {},
          "execution_count": 16
        }
      ]
    },
    {
      "cell_type": "code",
      "source": [
        "def is_vowel(string1):\n",
        "  vowel = ['a','e','i','o','u']\n",
        "  dict1 = dict(zip(string1,[(1,True) if s in vowel else (0, False) for s in string1]))\n",
        "  return dict1\n",
        "\n",
        "string1 = \"practice problems to drill list comprehension in your head.\"\n",
        "is_vowel(string1)"
      ],
      "metadata": {
        "id": "IEKro_YufCpU",
        "colab": {
          "base_uri": "https://localhost:8080/"
        },
        "outputId": "4e55bd2f-dac5-4615-d1fe-973c90fe32d1"
      },
      "execution_count": null,
      "outputs": [
        {
          "output_type": "execute_result",
          "data": {
            "text/plain": [
              "{'p': (0, False),\n",
              " 'r': (0, False),\n",
              " 'a': (1, True),\n",
              " 'c': (0, False),\n",
              " 't': (0, False),\n",
              " 'i': (1, True),\n",
              " 'e': (1, True),\n",
              " ' ': (0, False),\n",
              " 'o': (1, True),\n",
              " 'b': (0, False),\n",
              " 'l': (0, False),\n",
              " 'm': (0, False),\n",
              " 's': (0, False),\n",
              " 'd': (0, False),\n",
              " 'h': (0, False),\n",
              " 'n': (0, False),\n",
              " 'y': (0, False),\n",
              " 'u': (1, True),\n",
              " '.': (0, False)}"
            ]
          },
          "metadata": {},
          "execution_count": 10
        }
      ]
    },
    {
      "cell_type": "code",
      "source": [
        "def lottery(name):\n",
        "  vowels=[]\n",
        "  consonants=[]\n",
        "  vowel_points=0\n",
        "  consonant_points=0\n",
        "\n",
        "  for i,word in enumerate(name):\n",
        "    if word in ['a','e','i','o','u']:\n",
        "      vowels.append((word,i))\n",
        "    else:\n",
        "      consonants.append((word,i))\n",
        "\n",
        "  vowel_points = (5*len(vowels)) + sum(v[1] for v in vowels)\n",
        "  consonant_points = (1*len(consonants)) + sum(c[1] for c in consonants)\n",
        "\n",
        "  if vowel_points == consonant_points:\n",
        "    print(\"Lottery!!!!\")\n",
        "  else:\n",
        "    print(\"Better Luck Next Time!\")\n",
        "\n",
        "name = input('Enter your name: ')\n",
        "lottery(name)"
      ],
      "metadata": {
        "colab": {
          "base_uri": "https://localhost:8080/"
        },
        "id": "Ju5CeN93z-Kw",
        "outputId": "abdcd54d-3f42-4ac6-d5f5-0f5947d58793"
      },
      "execution_count": null,
      "outputs": [
        {
          "output_type": "stream",
          "name": "stdout",
          "text": [
            "Enter your name: abhishek\n",
            "Lottery!!!!\n"
          ]
        }
      ]
    },
    {
      "cell_type": "code",
      "source": [
        "def result(guess_number,original_number):\n",
        "  flag=False\n",
        "  for i in range(3):\n",
        "    if guess_number[i]==original_number[i]:\n",
        "      print('Fermi',end=\" \")\n",
        "      flag=True\n",
        "      break\n",
        "\n",
        "  for i in range(3):\n",
        "    for j in range(3):\n",
        "      if guess_number[i]==original_number[j]and i!=j:\n",
        "          print('Pico')\n",
        "          flag=True\n",
        "          break\n",
        "\n",
        "  if flag==False:\n",
        "    print('Bagles')\n",
        "\n",
        "result('143','345')"
      ],
      "metadata": {
        "id": "HgdMvS015NAX",
        "colab": {
          "base_uri": "https://localhost:8080/"
        },
        "outputId": "1367aadc-fe92-4d25-b1df-d1cc88579176"
      },
      "execution_count": null,
      "outputs": [
        {
          "output_type": "stream",
          "name": "stdout",
          "text": [
            "Fermi Pico\n"
          ]
        }
      ]
    },
    {
      "cell_type": "code",
      "source": [],
      "metadata": {
        "id": "isE3n5m56AkT"
      },
      "execution_count": null,
      "outputs": []
    }
  ]
}