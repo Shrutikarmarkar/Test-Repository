{
  "cells": [
    {
      "cell_type": "markdown",
      "id": "4d5b6b2c-c78d-4ed2-b5bc-1016fb6c5df7",
      "metadata": {
        "tags": [],
        "id": "4d5b6b2c-c78d-4ed2-b5bc-1016fb6c5df7"
      },
      "source": [
        "# Data Science Test\n",
        "\n",
        "**Exam duration:**\n",
        "24 hours  \n",
        "\n",
        "**Required output:**\n",
        "The uploaded solution must be an ipython notebook (a file of type `ipynb`). All code must be written in python. All text must be written in Markdown.\n",
        "\n",
        "You may use Colab, Jupyter lab, Jupyter notebook or any other program to complete the exam.\n",
        "\n",
        "Upload your solution to Github before the deadline. You will get the upload link at bottom of the test.\n",
        "\n",
        "#### Before submission\n",
        "\n",
        "Make sure you are submitting error free code!\n",
        "\n",
        "Click Run --> Restart Kernal and Run all cells.\n",
        "\n",
        "#### Honor code\n",
        "\n",
        "As a student of AI Adventures, I **Shruti Karmarkar** pledge to:\n",
        "\n",
        "1. Uphold the values of academic integrity, honesty, and respect in all of my academic work.\n",
        "\n",
        "2. Not engage in any form of academic misconduct, including cheating, plagiarism, or using unauthorized resources during exams.\n",
        "\n",
        "3. Commit to not using ChatGPT or any other AI language model during exam hours, and to rely only on my own knowledge, skills, and resources.\n",
        "\n",
        "4. Follow all exam rules and instructions, and not bring any unauthorized materials, devices, or resources into the exam room.\n",
        "\n",
        "5. Report any incidents of academic misconduct that I witness or become aware of, and cooperate fully with any investigation into such incidents.\n",
        "\n",
        "6. Not ask mentors questions that relate directly to coding during exams, such as \"why does my code snippet not work as expected?\" or \"how do I implement...?\"\n",
        "\n",
        "7. If I am stuck with implementation during an exam, I am allowed to use Google as a resource.\n",
        "\n",
        "By signing this pledge, I commit to upholding the highest standards of academic integrity and to avoiding all forms of cheating or academic misconduct during my studies at AI Adventures. I understand that violating this pledge may result in disciplinary actions.\n"
      ]
    },
    {
      "cell_type": "markdown",
      "id": "d9436835-161b-447c-997c-23a36b991bf1",
      "metadata": {
        "id": "d9436835-161b-447c-997c-23a36b991bf1"
      },
      "source": [
        "#### Answering the questions\n",
        "Most of the questions require you to implement something in Python but there might be some questions for which you do not need to write any code.\n",
        "\n",
        "For code questions (that is - almost all questions): you are required to show the **python** code you used to find the answer. An answer found using excel or other tools will not be accepted. The code should also be general, so that it would still work if the data were to change.\n",
        "\n",
        "The code output should only show the answer to the question with no extras. For example: if asked on 2018 data, show only 2018 data (and not 2015-2017 data in addition).\n",
        "\n",
        "We provide cells in which you can type your answer. Use can modify the to `Code` or `Markdown`. Use `Code` to write python code, and `Markdown` for explanations.  \n",
        "\n",
        "You are not required to use all the cells we provide, and you are also not required to use only the cells we provide. You may add or remove answer cell as you need."
      ]
    },
    {
      "cell_type": "markdown",
      "id": "5db84584-ca28-4bd8-962e-0cd4febec6b9",
      "metadata": {
        "id": "5db84584-ca28-4bd8-962e-0cd4febec6b9"
      },
      "source": [
        "#### Libraries\n",
        "\n",
        "To answer the questions you may use:\n",
        "- any library you prefer (not necessarily the ones which were presented in the course)\n",
        "- all materials that we have provided you during the courses\n",
        "- the whole www (especially documentation of libraries and sites like stackoverflow may give you useful hints)\n",
        "\n",
        "In case something does not work as expected, check that you have the most recent version of the library.\n",
        "\n",
        "You can update your used libraries with a command like the following:"
      ]
    },
    {
      "cell_type": "code",
      "execution_count": null,
      "id": "4c8766a7-dde1-42e6-b70c-dea0ebe26fee",
      "metadata": {
        "id": "4c8766a7-dde1-42e6-b70c-dea0ebe26fee"
      },
      "outputs": [],
      "source": [
        "# !pip install -U <library_name>\n",
        "# remove the '#' sign in case you want to update any of the libraries"
      ]
    },
    {
      "cell_type": "markdown",
      "id": "26de46dc-6734-44b6-bdfb-e44241180149",
      "metadata": {
        "id": "26de46dc-6734-44b6-bdfb-e44241180149"
      },
      "source": [
        "# Good Luck!"
      ]
    },
    {
      "cell_type": "markdown",
      "id": "4225ae74-929b-4032-8315-797a9a62ddf8",
      "metadata": {
        "id": "4225ae74-929b-4032-8315-797a9a62ddf8"
      },
      "source": [
        "---"
      ]
    },
    {
      "cell_type": "markdown",
      "id": "ec685944-6a9c-40fc-9b94-80693afbb2bc",
      "metadata": {
        "jp-MarkdownHeadingCollapsed": true,
        "tags": [],
        "id": "ec685944-6a9c-40fc-9b94-80693afbb2bc"
      },
      "source": [
        "## The dataset\n",
        "\n",
        "Wildlife strikes with aircraft are increasing worldwide. Collecting and analyzing accurate data on wildlife strikes helps to better understand the scope and nature of the problem.\\\n",
        "In this exam, you will work with data on aircraft-wildlife collisions, courtesy of the [Federal Aviation Administration](https://wildlife.faa.gov/search)\\\n",
        "This dataset contains reports received from airlines, airports, pilots on aircraft collisions with wildlife.\\\n",
        "See the file: `about_the_dataset.xlsx` for an explanation on the columns in the dataset.\n"
      ]
    },
    {
      "cell_type": "markdown",
      "id": "f464ba11-8eb8-4c3b-80c6-db7dc3012a91",
      "metadata": {
        "jp-MarkdownHeadingCollapsed": true,
        "tags": [],
        "id": "f464ba11-8eb8-4c3b-80c6-db7dc3012a91"
      },
      "source": [
        "## Task 1 - Code of honor (mandatory, no points):"
      ]
    },
    {
      "cell_type": "markdown",
      "id": "ee969b1f-79f8-4f25-8f74-71dad2de9c13",
      "metadata": {
        "id": "ee969b1f-79f8-4f25-8f74-71dad2de9c13"
      },
      "source": [
        "Please copy the following sentence and add your full name:\n",
        "\n",
        "As a student of AI Adventures, I `enter_your_name here` pledge to:\n",
        "\n",
        "1. Uphold the values of academic integrity, honesty, and respect in all of my academic work.\n",
        "\n",
        "2. Not engage in any form of academic misconduct, including cheating, plagiarism, or using unauthorized resources during exams.\n",
        "\n",
        "3. Commit to not using ChatGPT or any other AI language model during exam hours, and to rely only on my own knowledge, skills, and resources.\n",
        "\n",
        "4. Follow all exam rules and instructions, and not bring any unauthorized materials, devices, or resources into the exam room.\n",
        "\n",
        "5. Report any incidents of academic misconduct that I witness or become aware of, and cooperate fully with any investigation into such incidents.\n",
        "\n",
        "6. Not ask mentors questions that relate directly to coding during exams, such as \"why does my code snippet not work as expected?\" or \"how do I implement...?\"\n",
        "\n",
        "7. If I am stuck with implementation during an exam, I am allowed to use Google as a resource.\n",
        "\n",
        "By signing this pledge, I commit to upholding the highest standards of academic integrity and to avoiding all forms of cheating or academic misconduct during my studies at AI Adventures. I understand that violating this pledge may result in disciplinary actions."
      ]
    },
    {
      "cell_type": "markdown",
      "source": [
        "-------------------------------------------------------------------------------------"
      ],
      "metadata": {
        "id": "VGCzSEiIgw86"
      },
      "id": "VGCzSEiIgw86"
    },
    {
      "cell_type": "markdown",
      "id": "953aa328-510c-4f48-97ee-25d1c592ca3c",
      "metadata": {
        "jp-MarkdownHeadingCollapsed": true,
        "tags": [],
        "id": "953aa328-510c-4f48-97ee-25d1c592ca3c"
      },
      "source": [
        "## Task 2 - Data Import"
      ]
    },
    {
      "cell_type": "code",
      "source": [
        "from urllib import request\n",
        "import pandas as pd\n",
        "module_urls = [\"https://media.githubusercontent.com/media/Ai-Adventures/Test_Datasets/main/strikes_from_2020.csv\",\"https://media.githubusercontent.com/media/Ai-Adventures/Test_Datasets/main/strikes_until_2020.csv\"]\n",
        "for url in module_urls:\n",
        "  print(f'Fetching {url}')\n",
        "  module_name = url.split('/')[-1]\n",
        "  #with open(\"file_1.txt\") as f1, open(\"file_2.txt\") as f2\n",
        "  with request.urlopen(url) as f, open(module_name,'w') as outf:\n",
        "    a = f.read()\n",
        "    outf.write(a.decode('utf-8'))\n",
        "\n",
        "\n",
        "df1 = pd.read_csv('strikes_from_2020.csv')\n",
        "df2 = pd.read_csv('strikes_until_2020.csv')\n",
        "# this fills empty cells with empty strings"
      ],
      "metadata": {
        "id": "288wssmtkG_O",
        "colab": {
          "base_uri": "https://localhost:8080/"
        },
        "outputId": "4af3c910-4b48-4dcd-e7e2-712c840247bf"
      },
      "id": "288wssmtkG_O",
      "execution_count": null,
      "outputs": [
        {
          "output_type": "stream",
          "name": "stdout",
          "text": [
            "Fetching https://media.githubusercontent.com/media/Ai-Adventures/Test_Datasets/main/strikes_from_2020.csv\n",
            "Fetching https://media.githubusercontent.com/media/Ai-Adventures/Test_Datasets/main/strikes_until_2020.csv\n"
          ]
        },
        {
          "output_type": "stream",
          "name": "stderr",
          "text": [
            "<ipython-input-2-34bf9f31d114>:14: DtypeWarning: Columns (18,21,23) have mixed types. Specify dtype option on import or set low_memory=False.\n",
            "  df2 = pd.read_csv('strikes_until_2020.csv')\n"
          ]
        }
      ]
    },
    {
      "cell_type": "markdown",
      "id": "98f76b7c-8c5c-4b8e-ac79-19423bf83b3a",
      "metadata": {
        "tags": [],
        "id": "98f76b7c-8c5c-4b8e-ac79-19423bf83b3a"
      },
      "source": [
        "You will find two files:\\\n",
        "`strikes_until_2020.csv` - contains data on reported strikes up until 2020.\\\n",
        "`strikes_from_2020.csv` - contains data on reported strikes from the beginning of 2020 and onward.\n",
        "\n",
        "#### Task 2.1\n",
        "Place the files in the same directory with this python notebook.\n",
        "\n",
        "Read the files into dataframes. If you are unsure how to import a file\n",
        "using column names from a list, have a look at the documentation of the function that you use\n",
        "for the import. You may want to look into the original csv-file to find out how to configure the import.\\\n",
        "Note: you might encounter a `DtypeWarning` when reading the files. You can ignore this warning."
      ]
    },
    {
      "cell_type": "code",
      "execution_count": null,
      "id": "990595c6-2bd8-4bc4-b909-268c5ac6f606",
      "metadata": {
        "id": "990595c6-2bd8-4bc4-b909-268c5ac6f606"
      },
      "outputs": [],
      "source": [
        "# Files are uploaded in the previous step"
      ]
    },
    {
      "cell_type": "markdown",
      "id": "a0a2915c-5c87-4898-bc40-16cfddd21f51",
      "metadata": {
        "id": "a0a2915c-5c87-4898-bc40-16cfddd21f51"
      },
      "source": [
        "#### Task 2.2\n",
        "How many rows and how many columns does each dataframe contain?"
      ]
    },
    {
      "cell_type": "code",
      "execution_count": null,
      "id": "80c9fd2c-ef4f-4d8e-a4cf-8bdf0682a6df",
      "metadata": {
        "id": "80c9fd2c-ef4f-4d8e-a4cf-8bdf0682a6df",
        "colab": {
          "base_uri": "https://localhost:8080/"
        },
        "outputId": "dd84a213-c5c8-4935-83f0-56ee6f6fca7d"
      },
      "outputs": [
        {
          "output_type": "stream",
          "name": "stdout",
          "text": [
            "strikes_until_2020 dataset has 31472 rows and 102 columns\n",
            "strikes_from_2020 dataset has 232408 rows and 102 columns\n"
          ]
        }
      ],
      "source": [
        "print(f\"strikes_until_2020 dataset has {df1.shape[0]} rows and {df1.shape[1]} columns\")\n",
        "print(f\"strikes_from_2020 dataset has {df2.shape[0]} rows and {df2.shape[1]} columns\")"
      ]
    },
    {
      "cell_type": "markdown",
      "id": "b49dde67-7cd5-4363-adfe-4e745ec15add",
      "metadata": {
        "id": "b49dde67-7cd5-4363-adfe-4e745ec15add"
      },
      "source": [
        "#### Task 2.3\n",
        "Present all of column names of one of the dataframes"
      ]
    },
    {
      "cell_type": "code",
      "execution_count": null,
      "id": "b9cb7898-8c9e-4062-a07a-35320b25bfb5",
      "metadata": {
        "id": "b9cb7898-8c9e-4062-a07a-35320b25bfb5",
        "colab": {
          "base_uri": "https://localhost:8080/"
        },
        "outputId": "cfc2bc4a-ea2f-40c7-9f5a-7bf55a60812e"
      },
      "outputs": [
        {
          "output_type": "execute_result",
          "data": {
            "text/plain": [
              "Index(['Unnamed: 0', 'INDEX_NR', 'INCIDENT_DATE', 'INCIDENT_MONTH',\n",
              "       'INCIDENT_YEAR', 'TIME', 'TIME_OF_DAY', 'AIRPORT_ID', 'AIRPORT',\n",
              "       'LATITUDE',\n",
              "       ...\n",
              "       'ENROUTE_STATE', 'NR_INJURIES', 'NR_FATALITIES', 'COMMENTS',\n",
              "       'REPORTED_NAME', 'REPORTED_TITLE', 'SOURCE', 'PERSON', 'LUPDATE',\n",
              "       'TRANSFER'],\n",
              "      dtype='object', length=102)"
            ]
          },
          "metadata": {},
          "execution_count": 5
        }
      ],
      "source": [
        "df1.columns"
      ]
    },
    {
      "cell_type": "markdown",
      "id": "e16e85fa-7c3c-4402-8c48-ea9fb09fa450",
      "metadata": {
        "jp-MarkdownHeadingCollapsed": true,
        "tags": [],
        "id": "e16e85fa-7c3c-4402-8c48-ea9fb09fa450"
      },
      "source": [
        "## Task 3 - Data Preprocessing"
      ]
    },
    {
      "cell_type": "markdown",
      "id": "6c27d5c2-e2c3-40ac-a5f4-605a80d176ff",
      "metadata": {
        "tags": [],
        "id": "6c27d5c2-e2c3-40ac-a5f4-605a80d176ff"
      },
      "source": [
        "#### Task 3.1\n",
        "Combine the two dataframes: `strikes_until_2020` and `strikes_from_2020` into one dataframe named `all_strikes`. \\\n",
        "Present three rows of the dataframe."
      ]
    },
    {
      "cell_type": "code",
      "execution_count": null,
      "id": "37872430-f7d3-41fd-a033-4c60bd9bd241",
      "metadata": {
        "id": "37872430-f7d3-41fd-a033-4c60bd9bd241",
        "colab": {
          "base_uri": "https://localhost:8080/",
          "height": 410
        },
        "outputId": "5dc06f24-90d3-4111-a968-a63d3487b724"
      },
      "outputs": [
        {
          "output_type": "execute_result",
          "data": {
            "text/plain": [
              "   Unnamed: 0  INDEX_NR    INCIDENT_DATE  INCIDENT_MONTH  INCIDENT_YEAR TIME  \\\n",
              "0           0    608247  06/05/1991 0:00               5           1991  NaN   \n",
              "1           1    608248  05/11/1993 0:00              11           1993  NaN   \n",
              "2           2    608249  02/07/1995 0:00               7           1995  NaN   \n",
              "\n",
              "  TIME_OF_DAY AIRPORT_ID           AIRPORT  LATITUDE  ...  ENROUTE_STATE  \\\n",
              "0         Day       KSAT  SAN ANTONIO INTL  29.53369  ...            NaN   \n",
              "1        Dawn       KMCI  KANSAS CITY INTL  39.29761  ...            NaN   \n",
              "2         NaN       KMCI  KANSAS CITY INTL  39.29761  ...            NaN   \n",
              "\n",
              "  NR_INJURIES NR_FATALITIES  \\\n",
              "0         NaN           NaN   \n",
              "1         NaN           NaN   \n",
              "2         NaN           NaN   \n",
              "\n",
              "                                            COMMENTS REPORTED_NAME  \\\n",
              "0      SOURCE = FAA FROM 3830 /Legacy Record=100006/      REDACTED   \n",
              "1  THIS MAY BE DUPL STRIKE FOR AIR MIDWEST, BUT T...      REDACTED   \n",
              "2                             /Legacy Record=100008/      REDACTED   \n",
              "\n",
              "  REPORTED_TITLE                SOURCE                    PERSON  \\\n",
              "0       REDACTED                 Other                     Pilot   \n",
              "1       REDACTED       FAA Form 5200-7                       NaN   \n",
              "2       REDACTED  Air Transport Report  Air Transport Operations   \n",
              "\n",
              "           LUPDATE TRANSFER  \n",
              "0  21/11/1997 0:00        0  \n",
              "1  13/05/1998 0:00        0  \n",
              "2  20/12/2007 0:00        0  \n",
              "\n",
              "[3 rows x 102 columns]"
            ],
            "text/html": [
              "\n",
              "\n",
              "  <div id=\"df-2eee7ab3-f1e7-4dea-9564-7ba67c13a9f1\">\n",
              "    <div class=\"colab-df-container\">\n",
              "      <div>\n",
              "<style scoped>\n",
              "    .dataframe tbody tr th:only-of-type {\n",
              "        vertical-align: middle;\n",
              "    }\n",
              "\n",
              "    .dataframe tbody tr th {\n",
              "        vertical-align: top;\n",
              "    }\n",
              "\n",
              "    .dataframe thead th {\n",
              "        text-align: right;\n",
              "    }\n",
              "</style>\n",
              "<table border=\"1\" class=\"dataframe\">\n",
              "  <thead>\n",
              "    <tr style=\"text-align: right;\">\n",
              "      <th></th>\n",
              "      <th>Unnamed: 0</th>\n",
              "      <th>INDEX_NR</th>\n",
              "      <th>INCIDENT_DATE</th>\n",
              "      <th>INCIDENT_MONTH</th>\n",
              "      <th>INCIDENT_YEAR</th>\n",
              "      <th>TIME</th>\n",
              "      <th>TIME_OF_DAY</th>\n",
              "      <th>AIRPORT_ID</th>\n",
              "      <th>AIRPORT</th>\n",
              "      <th>LATITUDE</th>\n",
              "      <th>...</th>\n",
              "      <th>ENROUTE_STATE</th>\n",
              "      <th>NR_INJURIES</th>\n",
              "      <th>NR_FATALITIES</th>\n",
              "      <th>COMMENTS</th>\n",
              "      <th>REPORTED_NAME</th>\n",
              "      <th>REPORTED_TITLE</th>\n",
              "      <th>SOURCE</th>\n",
              "      <th>PERSON</th>\n",
              "      <th>LUPDATE</th>\n",
              "      <th>TRANSFER</th>\n",
              "    </tr>\n",
              "  </thead>\n",
              "  <tbody>\n",
              "    <tr>\n",
              "      <th>0</th>\n",
              "      <td>0</td>\n",
              "      <td>608247</td>\n",
              "      <td>06/05/1991 0:00</td>\n",
              "      <td>5</td>\n",
              "      <td>1991</td>\n",
              "      <td>NaN</td>\n",
              "      <td>Day</td>\n",
              "      <td>KSAT</td>\n",
              "      <td>SAN ANTONIO INTL</td>\n",
              "      <td>29.53369</td>\n",
              "      <td>...</td>\n",
              "      <td>NaN</td>\n",
              "      <td>NaN</td>\n",
              "      <td>NaN</td>\n",
              "      <td>SOURCE = FAA FROM 3830 /Legacy Record=100006/</td>\n",
              "      <td>REDACTED</td>\n",
              "      <td>REDACTED</td>\n",
              "      <td>Other</td>\n",
              "      <td>Pilot</td>\n",
              "      <td>21/11/1997 0:00</td>\n",
              "      <td>0</td>\n",
              "    </tr>\n",
              "    <tr>\n",
              "      <th>1</th>\n",
              "      <td>1</td>\n",
              "      <td>608248</td>\n",
              "      <td>05/11/1993 0:00</td>\n",
              "      <td>11</td>\n",
              "      <td>1993</td>\n",
              "      <td>NaN</td>\n",
              "      <td>Dawn</td>\n",
              "      <td>KMCI</td>\n",
              "      <td>KANSAS CITY INTL</td>\n",
              "      <td>39.29761</td>\n",
              "      <td>...</td>\n",
              "      <td>NaN</td>\n",
              "      <td>NaN</td>\n",
              "      <td>NaN</td>\n",
              "      <td>THIS MAY BE DUPL STRIKE FOR AIR MIDWEST, BUT T...</td>\n",
              "      <td>REDACTED</td>\n",
              "      <td>REDACTED</td>\n",
              "      <td>FAA Form 5200-7</td>\n",
              "      <td>NaN</td>\n",
              "      <td>13/05/1998 0:00</td>\n",
              "      <td>0</td>\n",
              "    </tr>\n",
              "    <tr>\n",
              "      <th>2</th>\n",
              "      <td>2</td>\n",
              "      <td>608249</td>\n",
              "      <td>02/07/1995 0:00</td>\n",
              "      <td>7</td>\n",
              "      <td>1995</td>\n",
              "      <td>NaN</td>\n",
              "      <td>NaN</td>\n",
              "      <td>KMCI</td>\n",
              "      <td>KANSAS CITY INTL</td>\n",
              "      <td>39.29761</td>\n",
              "      <td>...</td>\n",
              "      <td>NaN</td>\n",
              "      <td>NaN</td>\n",
              "      <td>NaN</td>\n",
              "      <td>/Legacy Record=100008/</td>\n",
              "      <td>REDACTED</td>\n",
              "      <td>REDACTED</td>\n",
              "      <td>Air Transport Report</td>\n",
              "      <td>Air Transport Operations</td>\n",
              "      <td>20/12/2007 0:00</td>\n",
              "      <td>0</td>\n",
              "    </tr>\n",
              "  </tbody>\n",
              "</table>\n",
              "<p>3 rows × 102 columns</p>\n",
              "</div>\n",
              "      <button class=\"colab-df-convert\" onclick=\"convertToInteractive('df-2eee7ab3-f1e7-4dea-9564-7ba67c13a9f1')\"\n",
              "              title=\"Convert this dataframe to an interactive table.\"\n",
              "              style=\"display:none;\">\n",
              "\n",
              "  <svg xmlns=\"http://www.w3.org/2000/svg\" height=\"24px\"viewBox=\"0 0 24 24\"\n",
              "       width=\"24px\">\n",
              "    <path d=\"M0 0h24v24H0V0z\" fill=\"none\"/>\n",
              "    <path d=\"M18.56 5.44l.94 2.06.94-2.06 2.06-.94-2.06-.94-.94-2.06-.94 2.06-2.06.94zm-11 1L8.5 8.5l.94-2.06 2.06-.94-2.06-.94L8.5 2.5l-.94 2.06-2.06.94zm10 10l.94 2.06.94-2.06 2.06-.94-2.06-.94-.94-2.06-.94 2.06-2.06.94z\"/><path d=\"M17.41 7.96l-1.37-1.37c-.4-.4-.92-.59-1.43-.59-.52 0-1.04.2-1.43.59L10.3 9.45l-7.72 7.72c-.78.78-.78 2.05 0 2.83L4 21.41c.39.39.9.59 1.41.59.51 0 1.02-.2 1.41-.59l7.78-7.78 2.81-2.81c.8-.78.8-2.07 0-2.86zM5.41 20L4 18.59l7.72-7.72 1.47 1.35L5.41 20z\"/>\n",
              "  </svg>\n",
              "      </button>\n",
              "\n",
              "\n",
              "\n",
              "    <div id=\"df-53d8e43a-782f-4a75-baa7-224cbcadf625\">\n",
              "      <button class=\"colab-df-quickchart\" onclick=\"quickchart('df-53d8e43a-782f-4a75-baa7-224cbcadf625')\"\n",
              "              title=\"Suggest charts.\"\n",
              "              style=\"display:none;\">\n",
              "\n",
              "<svg xmlns=\"http://www.w3.org/2000/svg\" height=\"24px\"viewBox=\"0 0 24 24\"\n",
              "     width=\"24px\">\n",
              "    <g>\n",
              "        <path d=\"M19 3H5c-1.1 0-2 .9-2 2v14c0 1.1.9 2 2 2h14c1.1 0 2-.9 2-2V5c0-1.1-.9-2-2-2zM9 17H7v-7h2v7zm4 0h-2V7h2v10zm4 0h-2v-4h2v4z\"/>\n",
              "    </g>\n",
              "</svg>\n",
              "      </button>\n",
              "    </div>\n",
              "\n",
              "<style>\n",
              "  .colab-df-quickchart {\n",
              "    background-color: #E8F0FE;\n",
              "    border: none;\n",
              "    border-radius: 50%;\n",
              "    cursor: pointer;\n",
              "    display: none;\n",
              "    fill: #1967D2;\n",
              "    height: 32px;\n",
              "    padding: 0 0 0 0;\n",
              "    width: 32px;\n",
              "  }\n",
              "\n",
              "  .colab-df-quickchart:hover {\n",
              "    background-color: #E2EBFA;\n",
              "    box-shadow: 0px 1px 2px rgba(60, 64, 67, 0.3), 0px 1px 3px 1px rgba(60, 64, 67, 0.15);\n",
              "    fill: #174EA6;\n",
              "  }\n",
              "\n",
              "  [theme=dark] .colab-df-quickchart {\n",
              "    background-color: #3B4455;\n",
              "    fill: #D2E3FC;\n",
              "  }\n",
              "\n",
              "  [theme=dark] .colab-df-quickchart:hover {\n",
              "    background-color: #434B5C;\n",
              "    box-shadow: 0px 1px 3px 1px rgba(0, 0, 0, 0.15);\n",
              "    filter: drop-shadow(0px 1px 2px rgba(0, 0, 0, 0.3));\n",
              "    fill: #FFFFFF;\n",
              "  }\n",
              "</style>\n",
              "\n",
              "    <script>\n",
              "      async function quickchart(key) {\n",
              "        const containerElement = document.querySelector('#' + key);\n",
              "        const charts = await google.colab.kernel.invokeFunction(\n",
              "            'suggestCharts', [key], {});\n",
              "      }\n",
              "    </script>\n",
              "\n",
              "      <script>\n",
              "\n",
              "function displayQuickchartButton(domScope) {\n",
              "  let quickchartButtonEl =\n",
              "    domScope.querySelector('#df-53d8e43a-782f-4a75-baa7-224cbcadf625 button.colab-df-quickchart');\n",
              "  quickchartButtonEl.style.display =\n",
              "    google.colab.kernel.accessAllowed ? 'block' : 'none';\n",
              "}\n",
              "\n",
              "        displayQuickchartButton(document);\n",
              "      </script>\n",
              "      <style>\n",
              "    .colab-df-container {\n",
              "      display:flex;\n",
              "      flex-wrap:wrap;\n",
              "      gap: 12px;\n",
              "    }\n",
              "\n",
              "    .colab-df-convert {\n",
              "      background-color: #E8F0FE;\n",
              "      border: none;\n",
              "      border-radius: 50%;\n",
              "      cursor: pointer;\n",
              "      display: none;\n",
              "      fill: #1967D2;\n",
              "      height: 32px;\n",
              "      padding: 0 0 0 0;\n",
              "      width: 32px;\n",
              "    }\n",
              "\n",
              "    .colab-df-convert:hover {\n",
              "      background-color: #E2EBFA;\n",
              "      box-shadow: 0px 1px 2px rgba(60, 64, 67, 0.3), 0px 1px 3px 1px rgba(60, 64, 67, 0.15);\n",
              "      fill: #174EA6;\n",
              "    }\n",
              "\n",
              "    [theme=dark] .colab-df-convert {\n",
              "      background-color: #3B4455;\n",
              "      fill: #D2E3FC;\n",
              "    }\n",
              "\n",
              "    [theme=dark] .colab-df-convert:hover {\n",
              "      background-color: #434B5C;\n",
              "      box-shadow: 0px 1px 3px 1px rgba(0, 0, 0, 0.15);\n",
              "      filter: drop-shadow(0px 1px 2px rgba(0, 0, 0, 0.3));\n",
              "      fill: #FFFFFF;\n",
              "    }\n",
              "  </style>\n",
              "\n",
              "      <script>\n",
              "        const buttonEl =\n",
              "          document.querySelector('#df-2eee7ab3-f1e7-4dea-9564-7ba67c13a9f1 button.colab-df-convert');\n",
              "        buttonEl.style.display =\n",
              "          google.colab.kernel.accessAllowed ? 'block' : 'none';\n",
              "\n",
              "        async function convertToInteractive(key) {\n",
              "          const element = document.querySelector('#df-2eee7ab3-f1e7-4dea-9564-7ba67c13a9f1');\n",
              "          const dataTable =\n",
              "            await google.colab.kernel.invokeFunction('convertToInteractive',\n",
              "                                                     [key], {});\n",
              "          if (!dataTable) return;\n",
              "\n",
              "          const docLinkHtml = 'Like what you see? Visit the ' +\n",
              "            '<a target=\"_blank\" href=https://colab.research.google.com/notebooks/data_table.ipynb>data table notebook</a>'\n",
              "            + ' to learn more about interactive tables.';\n",
              "          element.innerHTML = '';\n",
              "          dataTable['output_type'] = 'display_data';\n",
              "          await google.colab.output.renderOutput(dataTable, element);\n",
              "          const docLink = document.createElement('div');\n",
              "          docLink.innerHTML = docLinkHtml;\n",
              "          element.appendChild(docLink);\n",
              "        }\n",
              "      </script>\n",
              "    </div>\n",
              "  </div>\n"
            ]
          },
          "metadata": {},
          "execution_count": 6
        }
      ],
      "source": [
        "all_strikes = pd.concat([df2,df1])\n",
        "all_strikes.head(3)"
      ]
    },
    {
      "cell_type": "markdown",
      "id": "3d11c4c3-6b3e-4d53-958d-7dff924ab477",
      "metadata": {
        "tags": [],
        "id": "3d11c4c3-6b3e-4d53-958d-7dff924ab477"
      },
      "source": [
        "#### Task 3.2\n",
        "\n",
        "Remove from the dataframe  columns that contain more than 180,000 missing values. How many columns are left?\\\n",
        "Note: in this question, as in the next ones, make sure to assign back to `all_strikes`"
      ]
    },
    {
      "cell_type": "code",
      "execution_count": null,
      "id": "ccac999c-a984-4b33-820e-85994202fbe7",
      "metadata": {
        "id": "ccac999c-a984-4b33-820e-85994202fbe7",
        "colab": {
          "base_uri": "https://localhost:8080/"
        },
        "outputId": "e84e3fd6-b756-41bf-9a52-fa96b78bfe10"
      },
      "outputs": [
        {
          "output_type": "stream",
          "name": "stdout",
          "text": [
            "Number of columns left 88\n"
          ]
        }
      ],
      "source": [
        "for column in all_strikes.columns:\n",
        "  if all_strikes[column].isna().sum() > 180000:\n",
        "    all_strikes.drop(column,axis=1,inplace=True)\n",
        "\n",
        "print(f\"Number of columns left {len(all_strikes.columns)}\")"
      ]
    },
    {
      "cell_type": "markdown",
      "id": "c19c4ce1-c7a0-4e92-b6aa-7f92f962acca",
      "metadata": {
        "tags": [],
        "id": "c19c4ce1-c7a0-4e92-b6aa-7f92f962acca"
      },
      "source": [
        "#### Task 3.3\n",
        "Remove columns that contain the same values in ALL rows.\\\n",
        "Print the names of the columns you removed."
      ]
    },
    {
      "cell_type": "code",
      "execution_count": null,
      "id": "cca39b47-6f50-4daf-8c68-af6b501f348d",
      "metadata": {
        "id": "cca39b47-6f50-4daf-8c68-af6b501f348d"
      },
      "outputs": [],
      "source": [
        "def getDuplicateColumns(df):\n",
        "    '''\n",
        "    Get a list of duplicate columns.\n",
        "    It will iterate over all the columns in dataframe and find the columns whose contents are duplicate.\n",
        "    :param df: Dataframe object\n",
        "    :return: List of columns whose contents are duplicates.\n",
        "    '''\n",
        "    duplicateColumnNames = set()\n",
        "    # Iterate over all the columns in dataframe\n",
        "    for x in range(df.shape[1]):\n",
        "        # Select column at xth index.\n",
        "        col = df.iloc[:, x]\n",
        "        # Iterate over all the columns in DataFrame from (x+1)th index till end\n",
        "        for y in range(x + 1, df.shape[1]):\n",
        "            # Select column at yth index.\n",
        "            otherCol = df.iloc[:, y]\n",
        "            # Check if two columns at x 7 y index are equal\n",
        "            if col.equals(otherCol):\n",
        "                duplicateColumnNames.add(df.columns.values[y])\n",
        "\n",
        "    return list(duplicateColumnNames)"
      ]
    },
    {
      "cell_type": "code",
      "source": [
        "# Get list of duplicate columns\n",
        "duplicateColumnNames = getDuplicateColumns(all_strikes)\n",
        "\n",
        "print('Duplicate Columns are as follows')\n",
        "for col in duplicateColumnNames:\n",
        "    print('Column name : ', col)"
      ],
      "metadata": {
        "colab": {
          "base_uri": "https://localhost:8080/"
        },
        "id": "usbvi6GXQt7x",
        "outputId": "f4ded598-86bb-49a6-a91d-80fefb2c3bc7"
      },
      "id": "usbvi6GXQt7x",
      "execution_count": null,
      "outputs": [
        {
          "output_type": "stream",
          "name": "stdout",
          "text": [
            "Duplicate Columns are as follows\n",
            "Column name :  REPORTED_TITLE\n"
          ]
        }
      ]
    },
    {
      "cell_type": "code",
      "source": [
        "all_strikes = all_strikes.drop(columns=getDuplicateColumns(all_strikes))"
      ],
      "metadata": {
        "id": "1joLu_xfRGWT"
      },
      "id": "1joLu_xfRGWT",
      "execution_count": null,
      "outputs": []
    },
    {
      "cell_type": "code",
      "source": [
        "len(all_strikes.columns)"
      ],
      "metadata": {
        "colab": {
          "base_uri": "https://localhost:8080/"
        },
        "id": "QTn0_35FR4mH",
        "outputId": "891f0281-e849-42c8-cadc-46550844ed64"
      },
      "id": "QTn0_35FR4mH",
      "execution_count": null,
      "outputs": [
        {
          "output_type": "execute_result",
          "data": {
            "text/plain": [
              "87"
            ]
          },
          "metadata": {},
          "execution_count": 11
        }
      ]
    },
    {
      "cell_type": "markdown",
      "id": "18f3576f-23ac-42c2-a614-d345ebb6bec3",
      "metadata": {
        "tags": [],
        "id": "18f3576f-23ac-42c2-a614-d345ebb6bec3"
      },
      "source": [
        "#### Task 3.4\n",
        "\n",
        "Set the datatype of the date column to be of type datetime.\\\n",
        "This may prove to be a little tricky. You can use: `all_strikes['INCIDENT_DATE'].str[:-5]` to help."
      ]
    },
    {
      "cell_type": "code",
      "execution_count": null,
      "id": "a8c4e432-37e2-473b-ba13-7678a0b8f54e",
      "metadata": {
        "id": "a8c4e432-37e2-473b-ba13-7678a0b8f54e",
        "colab": {
          "base_uri": "https://localhost:8080/"
        },
        "outputId": "c4b3d8cd-406d-4746-bd4d-a7d312b2fc7c"
      },
      "outputs": [
        {
          "output_type": "execute_result",
          "data": {
            "text/plain": [
              "0    06/05/1991\n",
              "1    05/11/1993\n",
              "2    02/07/1995\n",
              "3    19/09/1990\n",
              "4    03/05/1992\n",
              "Name: INCIDENT_DATE, dtype: object"
            ]
          },
          "metadata": {},
          "execution_count": 12
        }
      ],
      "source": [
        "all_strikes['INCIDENT_DATE'] = all_strikes['INCIDENT_DATE'].str[:-5]\n",
        "all_strikes['INCIDENT_DATE'].head(5)"
      ]
    },
    {
      "cell_type": "code",
      "source": [
        "all_strikes['INCIDENT_DATE'] = pd.to_datetime(all_strikes['INCIDENT_DATE'])\n",
        "all_strikes['INCIDENT_DATE'].info()"
      ],
      "metadata": {
        "colab": {
          "base_uri": "https://localhost:8080/"
        },
        "id": "MnBMF203UTh7",
        "outputId": "03a66060-ce25-4654-b701-0e334637c3cc"
      },
      "id": "MnBMF203UTh7",
      "execution_count": null,
      "outputs": [
        {
          "output_type": "stream",
          "name": "stderr",
          "text": [
            "<ipython-input-13-0b7f2c72596b>:1: UserWarning: Parsing dates in DD/MM/YYYY format when dayfirst=False (the default) was specified. This may lead to inconsistently parsed dates! Specify a format to ensure consistent parsing.\n",
            "  all_strikes['INCIDENT_DATE'] = pd.to_datetime(all_strikes['INCIDENT_DATE'])\n"
          ]
        },
        {
          "output_type": "stream",
          "name": "stdout",
          "text": [
            "<class 'pandas.core.series.Series'>\n",
            "Int64Index: 263880 entries, 0 to 31471\n",
            "Series name: INCIDENT_DATE\n",
            "Non-Null Count   Dtype         \n",
            "--------------   -----         \n",
            "263880 non-null  datetime64[ns]\n",
            "dtypes: datetime64[ns](1)\n",
            "memory usage: 4.0 MB\n"
          ]
        }
      ]
    },
    {
      "cell_type": "markdown",
      "id": "51eba7a0-00c1-48d8-9518-bcb300ea2bfb",
      "metadata": {
        "tags": [],
        "id": "51eba7a0-00c1-48d8-9518-bcb300ea2bfb"
      },
      "source": [
        "#### Task 3.5\n",
        "\n",
        "The `NUM_STRUCK` column should report the number of birds that struck the aircraft.\\\n",
        "Print all the unique values in this column (for example, if this column contains only `11` and `22` then print: 11, 22)"
      ]
    },
    {
      "cell_type": "code",
      "execution_count": null,
      "id": "acb4af97-ef65-47e7-a10a-7544564e3955",
      "metadata": {
        "id": "acb4af97-ef65-47e7-a10a-7544564e3955",
        "colab": {
          "base_uri": "https://localhost:8080/"
        },
        "outputId": "806a55f4-0e74-4865-a4d1-2aad2fb57261"
      },
      "outputs": [
        {
          "output_type": "stream",
          "name": "stdout",
          "text": [
            "1, 11-100, 02-Oct, nan, More than 100\n"
          ]
        }
      ],
      "source": [
        "birds = all_strikes['NUM_STRUCK'].unique()\n",
        "\n",
        "for i in range (len(birds)):\n",
        "  if i != len(birds)-1:\n",
        "    print(birds[i], end=\", \")\n",
        "  else:\n",
        "    print(birds[i])"
      ]
    },
    {
      "cell_type": "markdown",
      "id": "a54533fe-15b8-40d4-bfdd-afa7d7505b14",
      "metadata": {
        "tags": [],
        "id": "a54533fe-15b8-40d4-bfdd-afa7d7505b14"
      },
      "source": [
        "#### Task 3.6\n",
        "\n",
        "For the `NUM_STRUCK` column, replace the value: `02-Oct` with the value: `2-10`\\\n",
        "Then, reprint all unique values in this column."
      ]
    },
    {
      "cell_type": "code",
      "execution_count": null,
      "id": "8736c5ed-c384-4905-a9c4-ab9eac3e05e6",
      "metadata": {
        "id": "8736c5ed-c384-4905-a9c4-ab9eac3e05e6",
        "colab": {
          "base_uri": "https://localhost:8080/"
        },
        "outputId": "048e6a22-4908-4232-88eb-8a6ef3b62a02"
      },
      "outputs": [
        {
          "output_type": "stream",
          "name": "stdout",
          "text": [
            "1, 11-100, 2-10, nan, More than 100\n"
          ]
        }
      ],
      "source": [
        "all_strikes['NUM_STRUCK'] = all_strikes['NUM_STRUCK'].replace('02-Oct','2-10')\n",
        "birds = all_strikes['NUM_STRUCK'].unique()\n",
        "\n",
        "for i in range (len(birds)):\n",
        "  if i != len(birds)-1:\n",
        "    print(birds[i], end=\", \")\n",
        "  else:\n",
        "    print(birds[i])"
      ]
    },
    {
      "cell_type": "markdown",
      "id": "b23120b1-a62a-4ad3-bf60-6d462fcd420d",
      "metadata": {
        "tags": [],
        "id": "b23120b1-a62a-4ad3-bf60-6d462fcd420d"
      },
      "source": [
        "#### Task 3.7\n",
        "\n",
        "There are columns that specify if a certain part of the aircraft was struck. Their values are either `0` or `1`.\\\n",
        "For example, `STR_WINDSHLD`=1 means that the aircraft was struck on its windshield.\\\n",
        "All columns indicating a strike begin with `STR_`.\n",
        "\n",
        "You need to add a column that accumlates the number of strikes for each aircraft (each row in the dataframe).\\\n",
        "Name the new column: `total_struck`\\\n",
        "Print the mean number of strikes using this function: `all_strikes[\"STR_total\"].mean()`"
      ]
    },
    {
      "cell_type": "code",
      "execution_count": null,
      "id": "17e9da31-ea90-4ed2-8672-29c3e3459cb6",
      "metadata": {
        "id": "17e9da31-ea90-4ed2-8672-29c3e3459cb6",
        "colab": {
          "base_uri": "https://localhost:8080/",
          "height": 595
        },
        "outputId": "3e56e7b4-12cd-4cf0-f257-72ff852a084e"
      },
      "outputs": [
        {
          "output_type": "execute_result",
          "data": {
            "text/plain": [
              "   Unnamed: 0  INDEX_NR INCIDENT_DATE  INCIDENT_MONTH  INCIDENT_YEAR TIME  \\\n",
              "0           0    608247    1991-06-05               5           1991  NaN   \n",
              "1           1    608248    1993-05-11              11           1993  NaN   \n",
              "2           2    608249    1995-02-07               7           1995  NaN   \n",
              "3           3    608250    1990-09-19               9           1990  NaN   \n",
              "4           4    608251    1992-03-05               5           1992  NaN   \n",
              "\n",
              "  TIME_OF_DAY AIRPORT_ID                              AIRPORT  LATITUDE  ...  \\\n",
              "0         Day       KSAT                     SAN ANTONIO INTL  29.53369  ...   \n",
              "1        Dawn       KMCI                     KANSAS CITY INTL  39.29761  ...   \n",
              "2         NaN       KMCI                     KANSAS CITY INTL  39.29761  ...   \n",
              "3         Day       KDFW          DALLAS/FORT WORTH INTL ARPT  32.89595  ...   \n",
              "4         Day       KSJC  NORMAN Y. MINETA SAN JOSE INTL ARPT  37.36186  ...   \n",
              "\n",
              "        NUM_SEEN NUM_STRUCK    SIZE  \\\n",
              "0              1          1  Medium   \n",
              "1  More than 100     11-100  Medium   \n",
              "2            NaN          1  Medium   \n",
              "3         02-Oct       2-10   Small   \n",
              "4              1          1   Small   \n",
              "\n",
              "                                            COMMENTS REPORTED_NAME  \\\n",
              "0      SOURCE = FAA FROM 3830 /Legacy Record=100006/      REDACTED   \n",
              "1  THIS MAY BE DUPL STRIKE FOR AIR MIDWEST, BUT T...      REDACTED   \n",
              "2                             /Legacy Record=100008/      REDACTED   \n",
              "3                             /Legacy Record=100009/      REDACTED   \n",
              "4  A/C = FAIRCHILD METRO II (5/8/14 UPDATED A/C) ...      REDACTED   \n",
              "\n",
              "                 SOURCE                    PERSON          LUPDATE TRANSFER  \\\n",
              "0                 Other                     Pilot  21/11/1997 0:00        0   \n",
              "1       FAA Form 5200-7                       NaN  13/05/1998 0:00        0   \n",
              "2  Air Transport Report  Air Transport Operations  20/12/2007 0:00        0   \n",
              "3       FAA Form 5200-7                     Pilot  21/01/1999 0:00        0   \n",
              "4       FAA Form 5200-7                       NaN  08/05/2014 0:00        0   \n",
              "\n",
              "  total_struck  \n",
              "0            2  \n",
              "1            6  \n",
              "2            3  \n",
              "3            1  \n",
              "4            2  \n",
              "\n",
              "[5 rows x 88 columns]"
            ],
            "text/html": [
              "\n",
              "\n",
              "  <div id=\"df-c6798901-288e-4bd8-bbb1-1db3b34a3f6b\">\n",
              "    <div class=\"colab-df-container\">\n",
              "      <div>\n",
              "<style scoped>\n",
              "    .dataframe tbody tr th:only-of-type {\n",
              "        vertical-align: middle;\n",
              "    }\n",
              "\n",
              "    .dataframe tbody tr th {\n",
              "        vertical-align: top;\n",
              "    }\n",
              "\n",
              "    .dataframe thead th {\n",
              "        text-align: right;\n",
              "    }\n",
              "</style>\n",
              "<table border=\"1\" class=\"dataframe\">\n",
              "  <thead>\n",
              "    <tr style=\"text-align: right;\">\n",
              "      <th></th>\n",
              "      <th>Unnamed: 0</th>\n",
              "      <th>INDEX_NR</th>\n",
              "      <th>INCIDENT_DATE</th>\n",
              "      <th>INCIDENT_MONTH</th>\n",
              "      <th>INCIDENT_YEAR</th>\n",
              "      <th>TIME</th>\n",
              "      <th>TIME_OF_DAY</th>\n",
              "      <th>AIRPORT_ID</th>\n",
              "      <th>AIRPORT</th>\n",
              "      <th>LATITUDE</th>\n",
              "      <th>...</th>\n",
              "      <th>NUM_SEEN</th>\n",
              "      <th>NUM_STRUCK</th>\n",
              "      <th>SIZE</th>\n",
              "      <th>COMMENTS</th>\n",
              "      <th>REPORTED_NAME</th>\n",
              "      <th>SOURCE</th>\n",
              "      <th>PERSON</th>\n",
              "      <th>LUPDATE</th>\n",
              "      <th>TRANSFER</th>\n",
              "      <th>total_struck</th>\n",
              "    </tr>\n",
              "  </thead>\n",
              "  <tbody>\n",
              "    <tr>\n",
              "      <th>0</th>\n",
              "      <td>0</td>\n",
              "      <td>608247</td>\n",
              "      <td>1991-06-05</td>\n",
              "      <td>5</td>\n",
              "      <td>1991</td>\n",
              "      <td>NaN</td>\n",
              "      <td>Day</td>\n",
              "      <td>KSAT</td>\n",
              "      <td>SAN ANTONIO INTL</td>\n",
              "      <td>29.53369</td>\n",
              "      <td>...</td>\n",
              "      <td>1</td>\n",
              "      <td>1</td>\n",
              "      <td>Medium</td>\n",
              "      <td>SOURCE = FAA FROM 3830 /Legacy Record=100006/</td>\n",
              "      <td>REDACTED</td>\n",
              "      <td>Other</td>\n",
              "      <td>Pilot</td>\n",
              "      <td>21/11/1997 0:00</td>\n",
              "      <td>0</td>\n",
              "      <td>2</td>\n",
              "    </tr>\n",
              "    <tr>\n",
              "      <th>1</th>\n",
              "      <td>1</td>\n",
              "      <td>608248</td>\n",
              "      <td>1993-05-11</td>\n",
              "      <td>11</td>\n",
              "      <td>1993</td>\n",
              "      <td>NaN</td>\n",
              "      <td>Dawn</td>\n",
              "      <td>KMCI</td>\n",
              "      <td>KANSAS CITY INTL</td>\n",
              "      <td>39.29761</td>\n",
              "      <td>...</td>\n",
              "      <td>More than 100</td>\n",
              "      <td>11-100</td>\n",
              "      <td>Medium</td>\n",
              "      <td>THIS MAY BE DUPL STRIKE FOR AIR MIDWEST, BUT T...</td>\n",
              "      <td>REDACTED</td>\n",
              "      <td>FAA Form 5200-7</td>\n",
              "      <td>NaN</td>\n",
              "      <td>13/05/1998 0:00</td>\n",
              "      <td>0</td>\n",
              "      <td>6</td>\n",
              "    </tr>\n",
              "    <tr>\n",
              "      <th>2</th>\n",
              "      <td>2</td>\n",
              "      <td>608249</td>\n",
              "      <td>1995-02-07</td>\n",
              "      <td>7</td>\n",
              "      <td>1995</td>\n",
              "      <td>NaN</td>\n",
              "      <td>NaN</td>\n",
              "      <td>KMCI</td>\n",
              "      <td>KANSAS CITY INTL</td>\n",
              "      <td>39.29761</td>\n",
              "      <td>...</td>\n",
              "      <td>NaN</td>\n",
              "      <td>1</td>\n",
              "      <td>Medium</td>\n",
              "      <td>/Legacy Record=100008/</td>\n",
              "      <td>REDACTED</td>\n",
              "      <td>Air Transport Report</td>\n",
              "      <td>Air Transport Operations</td>\n",
              "      <td>20/12/2007 0:00</td>\n",
              "      <td>0</td>\n",
              "      <td>3</td>\n",
              "    </tr>\n",
              "    <tr>\n",
              "      <th>3</th>\n",
              "      <td>3</td>\n",
              "      <td>608250</td>\n",
              "      <td>1990-09-19</td>\n",
              "      <td>9</td>\n",
              "      <td>1990</td>\n",
              "      <td>NaN</td>\n",
              "      <td>Day</td>\n",
              "      <td>KDFW</td>\n",
              "      <td>DALLAS/FORT WORTH INTL ARPT</td>\n",
              "      <td>32.89595</td>\n",
              "      <td>...</td>\n",
              "      <td>02-Oct</td>\n",
              "      <td>2-10</td>\n",
              "      <td>Small</td>\n",
              "      <td>/Legacy Record=100009/</td>\n",
              "      <td>REDACTED</td>\n",
              "      <td>FAA Form 5200-7</td>\n",
              "      <td>Pilot</td>\n",
              "      <td>21/01/1999 0:00</td>\n",
              "      <td>0</td>\n",
              "      <td>1</td>\n",
              "    </tr>\n",
              "    <tr>\n",
              "      <th>4</th>\n",
              "      <td>4</td>\n",
              "      <td>608251</td>\n",
              "      <td>1992-03-05</td>\n",
              "      <td>5</td>\n",
              "      <td>1992</td>\n",
              "      <td>NaN</td>\n",
              "      <td>Day</td>\n",
              "      <td>KSJC</td>\n",
              "      <td>NORMAN Y. MINETA SAN JOSE INTL ARPT</td>\n",
              "      <td>37.36186</td>\n",
              "      <td>...</td>\n",
              "      <td>1</td>\n",
              "      <td>1</td>\n",
              "      <td>Small</td>\n",
              "      <td>A/C = FAIRCHILD METRO II (5/8/14 UPDATED A/C) ...</td>\n",
              "      <td>REDACTED</td>\n",
              "      <td>FAA Form 5200-7</td>\n",
              "      <td>NaN</td>\n",
              "      <td>08/05/2014 0:00</td>\n",
              "      <td>0</td>\n",
              "      <td>2</td>\n",
              "    </tr>\n",
              "  </tbody>\n",
              "</table>\n",
              "<p>5 rows × 88 columns</p>\n",
              "</div>\n",
              "      <button class=\"colab-df-convert\" onclick=\"convertToInteractive('df-c6798901-288e-4bd8-bbb1-1db3b34a3f6b')\"\n",
              "              title=\"Convert this dataframe to an interactive table.\"\n",
              "              style=\"display:none;\">\n",
              "\n",
              "  <svg xmlns=\"http://www.w3.org/2000/svg\" height=\"24px\"viewBox=\"0 0 24 24\"\n",
              "       width=\"24px\">\n",
              "    <path d=\"M0 0h24v24H0V0z\" fill=\"none\"/>\n",
              "    <path d=\"M18.56 5.44l.94 2.06.94-2.06 2.06-.94-2.06-.94-.94-2.06-.94 2.06-2.06.94zm-11 1L8.5 8.5l.94-2.06 2.06-.94-2.06-.94L8.5 2.5l-.94 2.06-2.06.94zm10 10l.94 2.06.94-2.06 2.06-.94-2.06-.94-.94-2.06-.94 2.06-2.06.94z\"/><path d=\"M17.41 7.96l-1.37-1.37c-.4-.4-.92-.59-1.43-.59-.52 0-1.04.2-1.43.59L10.3 9.45l-7.72 7.72c-.78.78-.78 2.05 0 2.83L4 21.41c.39.39.9.59 1.41.59.51 0 1.02-.2 1.41-.59l7.78-7.78 2.81-2.81c.8-.78.8-2.07 0-2.86zM5.41 20L4 18.59l7.72-7.72 1.47 1.35L5.41 20z\"/>\n",
              "  </svg>\n",
              "      </button>\n",
              "\n",
              "\n",
              "\n",
              "    <div id=\"df-b52e5ffc-8c7f-4316-8d38-3e4d320a03f8\">\n",
              "      <button class=\"colab-df-quickchart\" onclick=\"quickchart('df-b52e5ffc-8c7f-4316-8d38-3e4d320a03f8')\"\n",
              "              title=\"Suggest charts.\"\n",
              "              style=\"display:none;\">\n",
              "\n",
              "<svg xmlns=\"http://www.w3.org/2000/svg\" height=\"24px\"viewBox=\"0 0 24 24\"\n",
              "     width=\"24px\">\n",
              "    <g>\n",
              "        <path d=\"M19 3H5c-1.1 0-2 .9-2 2v14c0 1.1.9 2 2 2h14c1.1 0 2-.9 2-2V5c0-1.1-.9-2-2-2zM9 17H7v-7h2v7zm4 0h-2V7h2v10zm4 0h-2v-4h2v4z\"/>\n",
              "    </g>\n",
              "</svg>\n",
              "      </button>\n",
              "    </div>\n",
              "\n",
              "<style>\n",
              "  .colab-df-quickchart {\n",
              "    background-color: #E8F0FE;\n",
              "    border: none;\n",
              "    border-radius: 50%;\n",
              "    cursor: pointer;\n",
              "    display: none;\n",
              "    fill: #1967D2;\n",
              "    height: 32px;\n",
              "    padding: 0 0 0 0;\n",
              "    width: 32px;\n",
              "  }\n",
              "\n",
              "  .colab-df-quickchart:hover {\n",
              "    background-color: #E2EBFA;\n",
              "    box-shadow: 0px 1px 2px rgba(60, 64, 67, 0.3), 0px 1px 3px 1px rgba(60, 64, 67, 0.15);\n",
              "    fill: #174EA6;\n",
              "  }\n",
              "\n",
              "  [theme=dark] .colab-df-quickchart {\n",
              "    background-color: #3B4455;\n",
              "    fill: #D2E3FC;\n",
              "  }\n",
              "\n",
              "  [theme=dark] .colab-df-quickchart:hover {\n",
              "    background-color: #434B5C;\n",
              "    box-shadow: 0px 1px 3px 1px rgba(0, 0, 0, 0.15);\n",
              "    filter: drop-shadow(0px 1px 2px rgba(0, 0, 0, 0.3));\n",
              "    fill: #FFFFFF;\n",
              "  }\n",
              "</style>\n",
              "\n",
              "    <script>\n",
              "      async function quickchart(key) {\n",
              "        const containerElement = document.querySelector('#' + key);\n",
              "        const charts = await google.colab.kernel.invokeFunction(\n",
              "            'suggestCharts', [key], {});\n",
              "      }\n",
              "    </script>\n",
              "\n",
              "      <script>\n",
              "\n",
              "function displayQuickchartButton(domScope) {\n",
              "  let quickchartButtonEl =\n",
              "    domScope.querySelector('#df-b52e5ffc-8c7f-4316-8d38-3e4d320a03f8 button.colab-df-quickchart');\n",
              "  quickchartButtonEl.style.display =\n",
              "    google.colab.kernel.accessAllowed ? 'block' : 'none';\n",
              "}\n",
              "\n",
              "        displayQuickchartButton(document);\n",
              "      </script>\n",
              "      <style>\n",
              "    .colab-df-container {\n",
              "      display:flex;\n",
              "      flex-wrap:wrap;\n",
              "      gap: 12px;\n",
              "    }\n",
              "\n",
              "    .colab-df-convert {\n",
              "      background-color: #E8F0FE;\n",
              "      border: none;\n",
              "      border-radius: 50%;\n",
              "      cursor: pointer;\n",
              "      display: none;\n",
              "      fill: #1967D2;\n",
              "      height: 32px;\n",
              "      padding: 0 0 0 0;\n",
              "      width: 32px;\n",
              "    }\n",
              "\n",
              "    .colab-df-convert:hover {\n",
              "      background-color: #E2EBFA;\n",
              "      box-shadow: 0px 1px 2px rgba(60, 64, 67, 0.3), 0px 1px 3px 1px rgba(60, 64, 67, 0.15);\n",
              "      fill: #174EA6;\n",
              "    }\n",
              "\n",
              "    [theme=dark] .colab-df-convert {\n",
              "      background-color: #3B4455;\n",
              "      fill: #D2E3FC;\n",
              "    }\n",
              "\n",
              "    [theme=dark] .colab-df-convert:hover {\n",
              "      background-color: #434B5C;\n",
              "      box-shadow: 0px 1px 3px 1px rgba(0, 0, 0, 0.15);\n",
              "      filter: drop-shadow(0px 1px 2px rgba(0, 0, 0, 0.3));\n",
              "      fill: #FFFFFF;\n",
              "    }\n",
              "  </style>\n",
              "\n",
              "      <script>\n",
              "        const buttonEl =\n",
              "          document.querySelector('#df-c6798901-288e-4bd8-bbb1-1db3b34a3f6b button.colab-df-convert');\n",
              "        buttonEl.style.display =\n",
              "          google.colab.kernel.accessAllowed ? 'block' : 'none';\n",
              "\n",
              "        async function convertToInteractive(key) {\n",
              "          const element = document.querySelector('#df-c6798901-288e-4bd8-bbb1-1db3b34a3f6b');\n",
              "          const dataTable =\n",
              "            await google.colab.kernel.invokeFunction('convertToInteractive',\n",
              "                                                     [key], {});\n",
              "          if (!dataTable) return;\n",
              "\n",
              "          const docLinkHtml = 'Like what you see? Visit the ' +\n",
              "            '<a target=\"_blank\" href=https://colab.research.google.com/notebooks/data_table.ipynb>data table notebook</a>'\n",
              "            + ' to learn more about interactive tables.';\n",
              "          element.innerHTML = '';\n",
              "          dataTable['output_type'] = 'display_data';\n",
              "          await google.colab.output.renderOutput(dataTable, element);\n",
              "          const docLink = document.createElement('div');\n",
              "          docLink.innerHTML = docLinkHtml;\n",
              "          element.appendChild(docLink);\n",
              "        }\n",
              "      </script>\n",
              "    </div>\n",
              "  </div>\n"
            ]
          },
          "metadata": {},
          "execution_count": 16
        }
      ],
      "source": [
        "struck = [i for i in all_strikes if i.startswith('STR_')]\n",
        "df = all_strikes[struck].copy()\n",
        "Sum = df.sum(axis=1)\n",
        "all_strikes['total_struck'] = Sum\n",
        "all_strikes.head(5)"
      ]
    },
    {
      "cell_type": "code",
      "source": [
        "print(all_strikes['total_struck'].mean())"
      ],
      "metadata": {
        "colab": {
          "base_uri": "https://localhost:8080/"
        },
        "id": "S56HbXDcqlig",
        "outputId": "f5c7b1bb-e2da-48b5-bb82-9f2bb299e613"
      },
      "id": "S56HbXDcqlig",
      "execution_count": null,
      "outputs": [
        {
          "output_type": "stream",
          "name": "stdout",
          "text": [
            "1.8371987266939518\n"
          ]
        }
      ]
    },
    {
      "cell_type": "markdown",
      "id": "cffe36d7-3278-424e-9927-24c34edd6588",
      "metadata": {
        "tags": [],
        "id": "cffe36d7-3278-424e-9927-24c34edd6588"
      },
      "source": [
        "#### Task 3.8\n",
        "\n",
        "Now, find all columns that indicate a certain part of the aircraft was damaged (hint: these columns begin with `DAM`).\\\n",
        "Add a column named: `total_damaged` that indicates the total damaged parts of an aircraft.\\\n",
        "Print the mean damage."
      ]
    },
    {
      "cell_type": "code",
      "execution_count": null,
      "id": "2c74eaf6-72f5-42bc-9214-9d1ab39fcdf4",
      "metadata": {
        "id": "2c74eaf6-72f5-42bc-9214-9d1ab39fcdf4",
        "colab": {
          "base_uri": "https://localhost:8080/"
        },
        "outputId": "345692ab-8f7a-4d4c-ff7c-75c3fba8234c"
      },
      "outputs": [
        {
          "output_type": "stream",
          "name": "stderr",
          "text": [
            "<ipython-input-18-9c7ca13ecf65>:3: FutureWarning: Dropping of nuisance columns in DataFrame reductions (with 'numeric_only=None') is deprecated; in a future version this will raise TypeError.  Select only valid columns before calling the reduction.\n",
            "  Sum = df.sum(axis=1)\n"
          ]
        }
      ],
      "source": [
        "damage = [i for i in all_strikes if i.startswith('DAM')]\n",
        "df = all_strikes[damage].copy()\n",
        "Sum = df.sum(axis=1)\n",
        "all_strikes['total_damaged'] = Sum"
      ]
    },
    {
      "cell_type": "code",
      "source": [
        "all_strikes['total_damaged'].mean()"
      ],
      "metadata": {
        "colab": {
          "base_uri": "https://localhost:8080/"
        },
        "id": "eQsTl_Gxr-11",
        "outputId": "b06109ff-e14d-4c8b-bf18-88576b4378c1"
      },
      "id": "eQsTl_Gxr-11",
      "execution_count": null,
      "outputs": [
        {
          "output_type": "execute_result",
          "data": {
            "text/plain": [
              "0.08663786569652873"
            ]
          },
          "metadata": {},
          "execution_count": 19
        }
      ]
    },
    {
      "cell_type": "markdown",
      "id": "6f995f4a-0664-423c-afc2-728fc107f3a3",
      "metadata": {
        "tags": [],
        "id": "6f995f4a-0664-423c-afc2-728fc107f3a3"
      },
      "source": [
        "## CHECKPOINT (not obligatory)"
      ]
    },
    {
      "cell_type": "markdown",
      "id": "9ac0ae28-e637-4a68-9072-3580596a4d6b",
      "metadata": {
        "id": "9ac0ae28-e637-4a68-9072-3580596a4d6b"
      },
      "source": [
        "If you are not sure that you performed the previous tasks correctly, you can now import the pickle: `strikes_checkpoint` and continue your work with it.\\\n",
        "Note: the file is compressed with zip, you need to unzip it first."
      ]
    },
    {
      "cell_type": "code",
      "execution_count": null,
      "id": "574252ae-92a5-4a05-a604-2d68b1e4b48b",
      "metadata": {
        "id": "574252ae-92a5-4a05-a604-2d68b1e4b48b"
      },
      "outputs": [],
      "source": [
        "import pandas as pd\n",
        "# all_strikes = pd.read_pickle('strikes_checkpoint')"
      ]
    },
    {
      "cell_type": "markdown",
      "id": "6547402c-d520-4607-9762-746dfaeed6ba",
      "metadata": {
        "jp-MarkdownHeadingCollapsed": true,
        "tags": [],
        "id": "6547402c-d520-4607-9762-746dfaeed6ba"
      },
      "source": [
        "## Task 4 - Filtering"
      ]
    },
    {
      "cell_type": "markdown",
      "id": "ab5c2fb2-ff16-4873-8094-3ccf4d8c10d8",
      "metadata": {
        "id": "ab5c2fb2-ff16-4873-8094-3ccf4d8c10d8"
      },
      "source": [
        "#### Task 4.1\n",
        "\n",
        "Create a dataframe that contains only data from aircraft of type `A-320` from `INCIDENT_DATE` 1.1.2022 and onward.\\\n",
        "How many rows does your dataframe contain?"
      ]
    },
    {
      "cell_type": "code",
      "source": [
        "condition = (all_strikes['AIRCRAFT'] == \"A-320\") & (all_strikes['INCIDENT_DATE'] >= pd.to_datetime(\"2022-01-01\"))\n",
        "\n",
        "# Apply the condition to filter the DataFrame\n",
        "df = all_strikes[condition]\n",
        "print(f'Remaining rows: {df.shape[0]}')"
      ],
      "metadata": {
        "colab": {
          "base_uri": "https://localhost:8080/"
        },
        "id": "oh9zFHYnu2s5",
        "outputId": "acf9aa7a-828e-499a-b34f-a707918306f3"
      },
      "id": "oh9zFHYnu2s5",
      "execution_count": null,
      "outputs": [
        {
          "output_type": "stream",
          "name": "stdout",
          "text": [
            "Remaining rows: 1057\n"
          ]
        }
      ]
    },
    {
      "cell_type": "markdown",
      "id": "77908614-cdce-4b8d-aefb-4750bfe1ec06",
      "metadata": {
        "id": "77908614-cdce-4b8d-aefb-4750bfe1ec06"
      },
      "source": [
        "#### Task 4.2\n",
        "\n",
        "Create a dataframe the contains only data where the number `DMG_total`  (the total damage) is 5 or more.\\\n",
        "Print the number of rows in the dataframe."
      ]
    },
    {
      "cell_type": "code",
      "execution_count": null,
      "id": "cb695607-35c2-4aa5-addc-824eb1258c9f",
      "metadata": {
        "id": "cb695607-35c2-4aa5-addc-824eb1258c9f",
        "colab": {
          "base_uri": "https://localhost:8080/"
        },
        "outputId": "33615fff-944c-4994-a135-801670b124e6"
      },
      "outputs": [
        {
          "output_type": "stream",
          "name": "stdout",
          "text": [
            "Remaining rows: 137\n"
          ]
        }
      ],
      "source": [
        "df2 = all_strikes[all_strikes['total_damaged']>=5]\n",
        "print(f'Remaining rows: {df2.shape[0]}')"
      ]
    },
    {
      "cell_type": "markdown",
      "id": "8cecf66b-ca2e-4e0b-8d34-b1ece642dd3d",
      "metadata": {
        "jp-MarkdownHeadingCollapsed": true,
        "tags": [],
        "id": "8cecf66b-ca2e-4e0b-8d34-b1ece642dd3d"
      },
      "source": [
        "## Task 5 - Data Analysis"
      ]
    },
    {
      "cell_type": "markdown",
      "id": "a2fc8525-124c-4cd7-8c0a-18bb6d90bfb7",
      "metadata": {
        "id": "a2fc8525-124c-4cd7-8c0a-18bb6d90bfb7"
      },
      "source": [
        "#### Task 5.1\n",
        "\n",
        "\n"
      ]
    },
    {
      "cell_type": "markdown",
      "id": "2476aacf-7e7a-4dc6-813e-d56dfe37cfea",
      "metadata": {
        "id": "2476aacf-7e7a-4dc6-813e-d56dfe37cfea"
      },
      "source": [
        "Each reported incident is a row in the dataframe.\\\n",
        "Which airports (column `AIRPORT`) reported the most incidents?\\\n",
        "Present the names of the 10 airports who reported the most incidents.\\\n",
        "Note: You will see that the most common airport is `UNKNOWN`. Omit it and look at the 10 airports with a known name (for example: `MEMPHIS INTL` is one of these 10 airports)"
      ]
    },
    {
      "cell_type": "code",
      "execution_count": null,
      "id": "4603f1b4-cda9-4e34-8d26-046763543d6c",
      "metadata": {
        "id": "4603f1b4-cda9-4e34-8d26-046763543d6c",
        "colab": {
          "base_uri": "https://localhost:8080/"
        },
        "outputId": "684284f8-8288-4b63-fb64-0b10cb8f36b4"
      },
      "outputs": [
        {
          "output_type": "stream",
          "name": "stdout",
          "text": [
            "DENVER INTL AIRPORT                       8688\n",
            "DALLAS/FORT WORTH INTL ARPT               7126\n",
            "CHICAGO O'HARE INTL ARPT                  5798\n",
            "JOHN F KENNEDY INTL                       5681\n",
            "MEMPHIS INTL                              4377\n",
            "SALT LAKE CITY INTL                       3445\n",
            "SACRAMENTO INTL                           3387\n",
            "DETROIT METRO WAYNE COUNTY ARPT           3312\n",
            "ORLANDO INTL                              3295\n",
            "HARTSFIELD - JACKSON ATLANTA INTL ARPT    3134\n",
            "Name: AIRPORT, dtype: int64\n"
          ]
        }
      ],
      "source": [
        "top_10 = all_strikes['AIRPORT'].value_counts().sort_values(ascending=False)[1:].head(10)\n",
        "print(top_10)"
      ]
    },
    {
      "cell_type": "markdown",
      "id": "096d7068-d7d2-4aa1-9d22-9ca4945f071b",
      "metadata": {
        "id": "096d7068-d7d2-4aa1-9d22-9ca4945f071b"
      },
      "source": [
        "#### Task 5.2\n",
        "Create a dataframe that contains only the 10 airports that reported the most incidents.\\\n",
        "Print the percentage of incidents (out of the total amount of incidents) reported by these 10 airports"
      ]
    },
    {
      "cell_type": "code",
      "execution_count": null,
      "id": "5df6db40-0705-4696-97f3-54ce83b2ce03",
      "metadata": {
        "id": "5df6db40-0705-4696-97f3-54ce83b2ce03",
        "colab": {
          "base_uri": "https://localhost:8080/",
          "height": 393
        },
        "outputId": "a3dd2d4f-8ba3-4afc-a7e5-07b248bb46f8"
      },
      "outputs": [
        {
          "output_type": "execute_result",
          "data": {
            "text/plain": [
              "    Unnamed: 0  INDEX_NR INCIDENT_DATE  INCIDENT_MONTH  INCIDENT_YEAR TIME  \\\n",
              "3            3    608250    1990-09-19               9           1990  NaN   \n",
              "8            8    608256    1993-08-12              12           1993  NaN   \n",
              "15          15    608263    1991-05-02               2           1991  NaN   \n",
              "\n",
              "   TIME_OF_DAY AIRPORT_ID                      AIRPORT  LATITUDE  ...  \\\n",
              "3          Day       KDFW  DALLAS/FORT WORTH INTL ARPT  32.89595  ...   \n",
              "8          Day       KDFW  DALLAS/FORT WORTH INTL ARPT  32.89595  ...   \n",
              "15        Dusk       KSMF              SACRAMENTO INTL  38.69542  ...   \n",
              "\n",
              "    NUM_STRUCK   SIZE                                           COMMENTS  \\\n",
              "3         2-10  Small                             /Legacy Record=100009/   \n",
              "8            1  Small                             /Legacy Record=100015/   \n",
              "15           1  Small  OPERATOR = GRASS VALLEY GROUP INC /Legacy Reco...   \n",
              "\n",
              "   REPORTED_NAME           SOURCE PERSON          LUPDATE TRANSFER  \\\n",
              "3       REDACTED  FAA Form 5200-7  Pilot  21/01/1999 0:00        0   \n",
              "8       REDACTED  FAA Form 5200-7  Pilot  14/05/1998 0:00        0   \n",
              "15      REDACTED  FAA Form 5200-7    NaN  28/05/1998 0:00        0   \n",
              "\n",
              "   total_struck total_damaged  \n",
              "3             1             0  \n",
              "8             2             0  \n",
              "15            3             0  \n",
              "\n",
              "[3 rows x 89 columns]"
            ],
            "text/html": [
              "\n",
              "\n",
              "  <div id=\"df-3a7d2d70-57b4-4205-885d-c54c288b99b9\">\n",
              "    <div class=\"colab-df-container\">\n",
              "      <div>\n",
              "<style scoped>\n",
              "    .dataframe tbody tr th:only-of-type {\n",
              "        vertical-align: middle;\n",
              "    }\n",
              "\n",
              "    .dataframe tbody tr th {\n",
              "        vertical-align: top;\n",
              "    }\n",
              "\n",
              "    .dataframe thead th {\n",
              "        text-align: right;\n",
              "    }\n",
              "</style>\n",
              "<table border=\"1\" class=\"dataframe\">\n",
              "  <thead>\n",
              "    <tr style=\"text-align: right;\">\n",
              "      <th></th>\n",
              "      <th>Unnamed: 0</th>\n",
              "      <th>INDEX_NR</th>\n",
              "      <th>INCIDENT_DATE</th>\n",
              "      <th>INCIDENT_MONTH</th>\n",
              "      <th>INCIDENT_YEAR</th>\n",
              "      <th>TIME</th>\n",
              "      <th>TIME_OF_DAY</th>\n",
              "      <th>AIRPORT_ID</th>\n",
              "      <th>AIRPORT</th>\n",
              "      <th>LATITUDE</th>\n",
              "      <th>...</th>\n",
              "      <th>NUM_STRUCK</th>\n",
              "      <th>SIZE</th>\n",
              "      <th>COMMENTS</th>\n",
              "      <th>REPORTED_NAME</th>\n",
              "      <th>SOURCE</th>\n",
              "      <th>PERSON</th>\n",
              "      <th>LUPDATE</th>\n",
              "      <th>TRANSFER</th>\n",
              "      <th>total_struck</th>\n",
              "      <th>total_damaged</th>\n",
              "    </tr>\n",
              "  </thead>\n",
              "  <tbody>\n",
              "    <tr>\n",
              "      <th>3</th>\n",
              "      <td>3</td>\n",
              "      <td>608250</td>\n",
              "      <td>1990-09-19</td>\n",
              "      <td>9</td>\n",
              "      <td>1990</td>\n",
              "      <td>NaN</td>\n",
              "      <td>Day</td>\n",
              "      <td>KDFW</td>\n",
              "      <td>DALLAS/FORT WORTH INTL ARPT</td>\n",
              "      <td>32.89595</td>\n",
              "      <td>...</td>\n",
              "      <td>2-10</td>\n",
              "      <td>Small</td>\n",
              "      <td>/Legacy Record=100009/</td>\n",
              "      <td>REDACTED</td>\n",
              "      <td>FAA Form 5200-7</td>\n",
              "      <td>Pilot</td>\n",
              "      <td>21/01/1999 0:00</td>\n",
              "      <td>0</td>\n",
              "      <td>1</td>\n",
              "      <td>0</td>\n",
              "    </tr>\n",
              "    <tr>\n",
              "      <th>8</th>\n",
              "      <td>8</td>\n",
              "      <td>608256</td>\n",
              "      <td>1993-08-12</td>\n",
              "      <td>12</td>\n",
              "      <td>1993</td>\n",
              "      <td>NaN</td>\n",
              "      <td>Day</td>\n",
              "      <td>KDFW</td>\n",
              "      <td>DALLAS/FORT WORTH INTL ARPT</td>\n",
              "      <td>32.89595</td>\n",
              "      <td>...</td>\n",
              "      <td>1</td>\n",
              "      <td>Small</td>\n",
              "      <td>/Legacy Record=100015/</td>\n",
              "      <td>REDACTED</td>\n",
              "      <td>FAA Form 5200-7</td>\n",
              "      <td>Pilot</td>\n",
              "      <td>14/05/1998 0:00</td>\n",
              "      <td>0</td>\n",
              "      <td>2</td>\n",
              "      <td>0</td>\n",
              "    </tr>\n",
              "    <tr>\n",
              "      <th>15</th>\n",
              "      <td>15</td>\n",
              "      <td>608263</td>\n",
              "      <td>1991-05-02</td>\n",
              "      <td>2</td>\n",
              "      <td>1991</td>\n",
              "      <td>NaN</td>\n",
              "      <td>Dusk</td>\n",
              "      <td>KSMF</td>\n",
              "      <td>SACRAMENTO INTL</td>\n",
              "      <td>38.69542</td>\n",
              "      <td>...</td>\n",
              "      <td>1</td>\n",
              "      <td>Small</td>\n",
              "      <td>OPERATOR = GRASS VALLEY GROUP INC /Legacy Reco...</td>\n",
              "      <td>REDACTED</td>\n",
              "      <td>FAA Form 5200-7</td>\n",
              "      <td>NaN</td>\n",
              "      <td>28/05/1998 0:00</td>\n",
              "      <td>0</td>\n",
              "      <td>3</td>\n",
              "      <td>0</td>\n",
              "    </tr>\n",
              "  </tbody>\n",
              "</table>\n",
              "<p>3 rows × 89 columns</p>\n",
              "</div>\n",
              "      <button class=\"colab-df-convert\" onclick=\"convertToInteractive('df-3a7d2d70-57b4-4205-885d-c54c288b99b9')\"\n",
              "              title=\"Convert this dataframe to an interactive table.\"\n",
              "              style=\"display:none;\">\n",
              "\n",
              "  <svg xmlns=\"http://www.w3.org/2000/svg\" height=\"24px\"viewBox=\"0 0 24 24\"\n",
              "       width=\"24px\">\n",
              "    <path d=\"M0 0h24v24H0V0z\" fill=\"none\"/>\n",
              "    <path d=\"M18.56 5.44l.94 2.06.94-2.06 2.06-.94-2.06-.94-.94-2.06-.94 2.06-2.06.94zm-11 1L8.5 8.5l.94-2.06 2.06-.94-2.06-.94L8.5 2.5l-.94 2.06-2.06.94zm10 10l.94 2.06.94-2.06 2.06-.94-2.06-.94-.94-2.06-.94 2.06-2.06.94z\"/><path d=\"M17.41 7.96l-1.37-1.37c-.4-.4-.92-.59-1.43-.59-.52 0-1.04.2-1.43.59L10.3 9.45l-7.72 7.72c-.78.78-.78 2.05 0 2.83L4 21.41c.39.39.9.59 1.41.59.51 0 1.02-.2 1.41-.59l7.78-7.78 2.81-2.81c.8-.78.8-2.07 0-2.86zM5.41 20L4 18.59l7.72-7.72 1.47 1.35L5.41 20z\"/>\n",
              "  </svg>\n",
              "      </button>\n",
              "\n",
              "\n",
              "\n",
              "    <div id=\"df-60f59e0b-47bf-481f-8ed2-7a199f16d8a2\">\n",
              "      <button class=\"colab-df-quickchart\" onclick=\"quickchart('df-60f59e0b-47bf-481f-8ed2-7a199f16d8a2')\"\n",
              "              title=\"Suggest charts.\"\n",
              "              style=\"display:none;\">\n",
              "\n",
              "<svg xmlns=\"http://www.w3.org/2000/svg\" height=\"24px\"viewBox=\"0 0 24 24\"\n",
              "     width=\"24px\">\n",
              "    <g>\n",
              "        <path d=\"M19 3H5c-1.1 0-2 .9-2 2v14c0 1.1.9 2 2 2h14c1.1 0 2-.9 2-2V5c0-1.1-.9-2-2-2zM9 17H7v-7h2v7zm4 0h-2V7h2v10zm4 0h-2v-4h2v4z\"/>\n",
              "    </g>\n",
              "</svg>\n",
              "      </button>\n",
              "    </div>\n",
              "\n",
              "<style>\n",
              "  .colab-df-quickchart {\n",
              "    background-color: #E8F0FE;\n",
              "    border: none;\n",
              "    border-radius: 50%;\n",
              "    cursor: pointer;\n",
              "    display: none;\n",
              "    fill: #1967D2;\n",
              "    height: 32px;\n",
              "    padding: 0 0 0 0;\n",
              "    width: 32px;\n",
              "  }\n",
              "\n",
              "  .colab-df-quickchart:hover {\n",
              "    background-color: #E2EBFA;\n",
              "    box-shadow: 0px 1px 2px rgba(60, 64, 67, 0.3), 0px 1px 3px 1px rgba(60, 64, 67, 0.15);\n",
              "    fill: #174EA6;\n",
              "  }\n",
              "\n",
              "  [theme=dark] .colab-df-quickchart {\n",
              "    background-color: #3B4455;\n",
              "    fill: #D2E3FC;\n",
              "  }\n",
              "\n",
              "  [theme=dark] .colab-df-quickchart:hover {\n",
              "    background-color: #434B5C;\n",
              "    box-shadow: 0px 1px 3px 1px rgba(0, 0, 0, 0.15);\n",
              "    filter: drop-shadow(0px 1px 2px rgba(0, 0, 0, 0.3));\n",
              "    fill: #FFFFFF;\n",
              "  }\n",
              "</style>\n",
              "\n",
              "    <script>\n",
              "      async function quickchart(key) {\n",
              "        const containerElement = document.querySelector('#' + key);\n",
              "        const charts = await google.colab.kernel.invokeFunction(\n",
              "            'suggestCharts', [key], {});\n",
              "      }\n",
              "    </script>\n",
              "\n",
              "      <script>\n",
              "\n",
              "function displayQuickchartButton(domScope) {\n",
              "  let quickchartButtonEl =\n",
              "    domScope.querySelector('#df-60f59e0b-47bf-481f-8ed2-7a199f16d8a2 button.colab-df-quickchart');\n",
              "  quickchartButtonEl.style.display =\n",
              "    google.colab.kernel.accessAllowed ? 'block' : 'none';\n",
              "}\n",
              "\n",
              "        displayQuickchartButton(document);\n",
              "      </script>\n",
              "      <style>\n",
              "    .colab-df-container {\n",
              "      display:flex;\n",
              "      flex-wrap:wrap;\n",
              "      gap: 12px;\n",
              "    }\n",
              "\n",
              "    .colab-df-convert {\n",
              "      background-color: #E8F0FE;\n",
              "      border: none;\n",
              "      border-radius: 50%;\n",
              "      cursor: pointer;\n",
              "      display: none;\n",
              "      fill: #1967D2;\n",
              "      height: 32px;\n",
              "      padding: 0 0 0 0;\n",
              "      width: 32px;\n",
              "    }\n",
              "\n",
              "    .colab-df-convert:hover {\n",
              "      background-color: #E2EBFA;\n",
              "      box-shadow: 0px 1px 2px rgba(60, 64, 67, 0.3), 0px 1px 3px 1px rgba(60, 64, 67, 0.15);\n",
              "      fill: #174EA6;\n",
              "    }\n",
              "\n",
              "    [theme=dark] .colab-df-convert {\n",
              "      background-color: #3B4455;\n",
              "      fill: #D2E3FC;\n",
              "    }\n",
              "\n",
              "    [theme=dark] .colab-df-convert:hover {\n",
              "      background-color: #434B5C;\n",
              "      box-shadow: 0px 1px 3px 1px rgba(0, 0, 0, 0.15);\n",
              "      filter: drop-shadow(0px 1px 2px rgba(0, 0, 0, 0.3));\n",
              "      fill: #FFFFFF;\n",
              "    }\n",
              "  </style>\n",
              "\n",
              "      <script>\n",
              "        const buttonEl =\n",
              "          document.querySelector('#df-3a7d2d70-57b4-4205-885d-c54c288b99b9 button.colab-df-convert');\n",
              "        buttonEl.style.display =\n",
              "          google.colab.kernel.accessAllowed ? 'block' : 'none';\n",
              "\n",
              "        async function convertToInteractive(key) {\n",
              "          const element = document.querySelector('#df-3a7d2d70-57b4-4205-885d-c54c288b99b9');\n",
              "          const dataTable =\n",
              "            await google.colab.kernel.invokeFunction('convertToInteractive',\n",
              "                                                     [key], {});\n",
              "          if (!dataTable) return;\n",
              "\n",
              "          const docLinkHtml = 'Like what you see? Visit the ' +\n",
              "            '<a target=\"_blank\" href=https://colab.research.google.com/notebooks/data_table.ipynb>data table notebook</a>'\n",
              "            + ' to learn more about interactive tables.';\n",
              "          element.innerHTML = '';\n",
              "          dataTable['output_type'] = 'display_data';\n",
              "          await google.colab.output.renderOutput(dataTable, element);\n",
              "          const docLink = document.createElement('div');\n",
              "          docLink.innerHTML = docLinkHtml;\n",
              "          element.appendChild(docLink);\n",
              "        }\n",
              "      </script>\n",
              "    </div>\n",
              "  </div>\n"
            ]
          },
          "metadata": {},
          "execution_count": 24
        }
      ],
      "source": [
        "top_10 = list(top_10.index)\n",
        "df3 = all_strikes[all_strikes['AIRPORT'].isin(top_10)]\n",
        "df3.head(3)"
      ]
    },
    {
      "cell_type": "code",
      "source": [
        "total_incidents = all_strikes.shape[0]\n",
        "top_10_incidents = df3.shape[0]\n",
        "\n",
        "percentage = (top_10_incidents/total_incidents)*100\n",
        "percentage"
      ],
      "metadata": {
        "colab": {
          "base_uri": "https://localhost:8080/"
        },
        "id": "JEFVIy9O4iQB",
        "outputId": "f1196fac-3090-40df-a401-2575a23655be"
      },
      "id": "JEFVIy9O4iQB",
      "execution_count": null,
      "outputs": [
        {
          "output_type": "execute_result",
          "data": {
            "text/plain": [
              "18.282173715325147"
            ]
          },
          "metadata": {},
          "execution_count": 25
        }
      ]
    },
    {
      "cell_type": "markdown",
      "id": "e54b0508-2d14-48d0-9d28-b74aa9c9f7d2",
      "metadata": {
        "id": "e54b0508-2d14-48d0-9d28-b74aa9c9f7d2"
      },
      "source": [
        "#### Task 5.3\n",
        "\n",
        "When do most incidents occur?\n",
        "Create a table that displays the average number of strikes (as indicated by the column `STR_total`) and the average damage (column `DMG_total`) at different times during the day (`TIME_OF_DAY`)"
      ]
    },
    {
      "cell_type": "code",
      "execution_count": null,
      "id": "254e4c74-d709-42e2-a09a-65f70624e7b9",
      "metadata": {
        "id": "254e4c74-d709-42e2-a09a-65f70624e7b9",
        "colab": {
          "base_uri": "https://localhost:8080/",
          "height": 206
        },
        "outputId": "1a873f97-7f49-4abf-ceb4-ab000edd23bf"
      },
      "outputs": [
        {
          "output_type": "execute_result",
          "data": {
            "text/plain": [
              "             total_struck  total_damaged\n",
              "TIME_OF_DAY                             \n",
              "Dawn             2.166787       0.111312\n",
              "Day              2.126167       0.110161\n",
              "Dusk             2.262891       0.162080\n",
              "Night            2.180346       0.143127"
            ],
            "text/html": [
              "\n",
              "\n",
              "  <div id=\"df-f316f1dc-4f8c-45e2-abda-3e662b7cdfd8\">\n",
              "    <div class=\"colab-df-container\">\n",
              "      <div>\n",
              "<style scoped>\n",
              "    .dataframe tbody tr th:only-of-type {\n",
              "        vertical-align: middle;\n",
              "    }\n",
              "\n",
              "    .dataframe tbody tr th {\n",
              "        vertical-align: top;\n",
              "    }\n",
              "\n",
              "    .dataframe thead th {\n",
              "        text-align: right;\n",
              "    }\n",
              "</style>\n",
              "<table border=\"1\" class=\"dataframe\">\n",
              "  <thead>\n",
              "    <tr style=\"text-align: right;\">\n",
              "      <th></th>\n",
              "      <th>total_struck</th>\n",
              "      <th>total_damaged</th>\n",
              "    </tr>\n",
              "    <tr>\n",
              "      <th>TIME_OF_DAY</th>\n",
              "      <th></th>\n",
              "      <th></th>\n",
              "    </tr>\n",
              "  </thead>\n",
              "  <tbody>\n",
              "    <tr>\n",
              "      <th>Dawn</th>\n",
              "      <td>2.166787</td>\n",
              "      <td>0.111312</td>\n",
              "    </tr>\n",
              "    <tr>\n",
              "      <th>Day</th>\n",
              "      <td>2.126167</td>\n",
              "      <td>0.110161</td>\n",
              "    </tr>\n",
              "    <tr>\n",
              "      <th>Dusk</th>\n",
              "      <td>2.262891</td>\n",
              "      <td>0.162080</td>\n",
              "    </tr>\n",
              "    <tr>\n",
              "      <th>Night</th>\n",
              "      <td>2.180346</td>\n",
              "      <td>0.143127</td>\n",
              "    </tr>\n",
              "  </tbody>\n",
              "</table>\n",
              "</div>\n",
              "      <button class=\"colab-df-convert\" onclick=\"convertToInteractive('df-f316f1dc-4f8c-45e2-abda-3e662b7cdfd8')\"\n",
              "              title=\"Convert this dataframe to an interactive table.\"\n",
              "              style=\"display:none;\">\n",
              "\n",
              "  <svg xmlns=\"http://www.w3.org/2000/svg\" height=\"24px\"viewBox=\"0 0 24 24\"\n",
              "       width=\"24px\">\n",
              "    <path d=\"M0 0h24v24H0V0z\" fill=\"none\"/>\n",
              "    <path d=\"M18.56 5.44l.94 2.06.94-2.06 2.06-.94-2.06-.94-.94-2.06-.94 2.06-2.06.94zm-11 1L8.5 8.5l.94-2.06 2.06-.94-2.06-.94L8.5 2.5l-.94 2.06-2.06.94zm10 10l.94 2.06.94-2.06 2.06-.94-2.06-.94-.94-2.06-.94 2.06-2.06.94z\"/><path d=\"M17.41 7.96l-1.37-1.37c-.4-.4-.92-.59-1.43-.59-.52 0-1.04.2-1.43.59L10.3 9.45l-7.72 7.72c-.78.78-.78 2.05 0 2.83L4 21.41c.39.39.9.59 1.41.59.51 0 1.02-.2 1.41-.59l7.78-7.78 2.81-2.81c.8-.78.8-2.07 0-2.86zM5.41 20L4 18.59l7.72-7.72 1.47 1.35L5.41 20z\"/>\n",
              "  </svg>\n",
              "      </button>\n",
              "\n",
              "\n",
              "\n",
              "    <div id=\"df-b6b02a8a-1f1a-4cff-87a6-790d1ec6f870\">\n",
              "      <button class=\"colab-df-quickchart\" onclick=\"quickchart('df-b6b02a8a-1f1a-4cff-87a6-790d1ec6f870')\"\n",
              "              title=\"Suggest charts.\"\n",
              "              style=\"display:none;\">\n",
              "\n",
              "<svg xmlns=\"http://www.w3.org/2000/svg\" height=\"24px\"viewBox=\"0 0 24 24\"\n",
              "     width=\"24px\">\n",
              "    <g>\n",
              "        <path d=\"M19 3H5c-1.1 0-2 .9-2 2v14c0 1.1.9 2 2 2h14c1.1 0 2-.9 2-2V5c0-1.1-.9-2-2-2zM9 17H7v-7h2v7zm4 0h-2V7h2v10zm4 0h-2v-4h2v4z\"/>\n",
              "    </g>\n",
              "</svg>\n",
              "      </button>\n",
              "    </div>\n",
              "\n",
              "<style>\n",
              "  .colab-df-quickchart {\n",
              "    background-color: #E8F0FE;\n",
              "    border: none;\n",
              "    border-radius: 50%;\n",
              "    cursor: pointer;\n",
              "    display: none;\n",
              "    fill: #1967D2;\n",
              "    height: 32px;\n",
              "    padding: 0 0 0 0;\n",
              "    width: 32px;\n",
              "  }\n",
              "\n",
              "  .colab-df-quickchart:hover {\n",
              "    background-color: #E2EBFA;\n",
              "    box-shadow: 0px 1px 2px rgba(60, 64, 67, 0.3), 0px 1px 3px 1px rgba(60, 64, 67, 0.15);\n",
              "    fill: #174EA6;\n",
              "  }\n",
              "\n",
              "  [theme=dark] .colab-df-quickchart {\n",
              "    background-color: #3B4455;\n",
              "    fill: #D2E3FC;\n",
              "  }\n",
              "\n",
              "  [theme=dark] .colab-df-quickchart:hover {\n",
              "    background-color: #434B5C;\n",
              "    box-shadow: 0px 1px 3px 1px rgba(0, 0, 0, 0.15);\n",
              "    filter: drop-shadow(0px 1px 2px rgba(0, 0, 0, 0.3));\n",
              "    fill: #FFFFFF;\n",
              "  }\n",
              "</style>\n",
              "\n",
              "    <script>\n",
              "      async function quickchart(key) {\n",
              "        const containerElement = document.querySelector('#' + key);\n",
              "        const charts = await google.colab.kernel.invokeFunction(\n",
              "            'suggestCharts', [key], {});\n",
              "      }\n",
              "    </script>\n",
              "\n",
              "      <script>\n",
              "\n",
              "function displayQuickchartButton(domScope) {\n",
              "  let quickchartButtonEl =\n",
              "    domScope.querySelector('#df-b6b02a8a-1f1a-4cff-87a6-790d1ec6f870 button.colab-df-quickchart');\n",
              "  quickchartButtonEl.style.display =\n",
              "    google.colab.kernel.accessAllowed ? 'block' : 'none';\n",
              "}\n",
              "\n",
              "        displayQuickchartButton(document);\n",
              "      </script>\n",
              "      <style>\n",
              "    .colab-df-container {\n",
              "      display:flex;\n",
              "      flex-wrap:wrap;\n",
              "      gap: 12px;\n",
              "    }\n",
              "\n",
              "    .colab-df-convert {\n",
              "      background-color: #E8F0FE;\n",
              "      border: none;\n",
              "      border-radius: 50%;\n",
              "      cursor: pointer;\n",
              "      display: none;\n",
              "      fill: #1967D2;\n",
              "      height: 32px;\n",
              "      padding: 0 0 0 0;\n",
              "      width: 32px;\n",
              "    }\n",
              "\n",
              "    .colab-df-convert:hover {\n",
              "      background-color: #E2EBFA;\n",
              "      box-shadow: 0px 1px 2px rgba(60, 64, 67, 0.3), 0px 1px 3px 1px rgba(60, 64, 67, 0.15);\n",
              "      fill: #174EA6;\n",
              "    }\n",
              "\n",
              "    [theme=dark] .colab-df-convert {\n",
              "      background-color: #3B4455;\n",
              "      fill: #D2E3FC;\n",
              "    }\n",
              "\n",
              "    [theme=dark] .colab-df-convert:hover {\n",
              "      background-color: #434B5C;\n",
              "      box-shadow: 0px 1px 3px 1px rgba(0, 0, 0, 0.15);\n",
              "      filter: drop-shadow(0px 1px 2px rgba(0, 0, 0, 0.3));\n",
              "      fill: #FFFFFF;\n",
              "    }\n",
              "  </style>\n",
              "\n",
              "      <script>\n",
              "        const buttonEl =\n",
              "          document.querySelector('#df-f316f1dc-4f8c-45e2-abda-3e662b7cdfd8 button.colab-df-convert');\n",
              "        buttonEl.style.display =\n",
              "          google.colab.kernel.accessAllowed ? 'block' : 'none';\n",
              "\n",
              "        async function convertToInteractive(key) {\n",
              "          const element = document.querySelector('#df-f316f1dc-4f8c-45e2-abda-3e662b7cdfd8');\n",
              "          const dataTable =\n",
              "            await google.colab.kernel.invokeFunction('convertToInteractive',\n",
              "                                                     [key], {});\n",
              "          if (!dataTable) return;\n",
              "\n",
              "          const docLinkHtml = 'Like what you see? Visit the ' +\n",
              "            '<a target=\"_blank\" href=https://colab.research.google.com/notebooks/data_table.ipynb>data table notebook</a>'\n",
              "            + ' to learn more about interactive tables.';\n",
              "          element.innerHTML = '';\n",
              "          dataTable['output_type'] = 'display_data';\n",
              "          await google.colab.output.renderOutput(dataTable, element);\n",
              "          const docLink = document.createElement('div');\n",
              "          docLink.innerHTML = docLinkHtml;\n",
              "          element.appendChild(docLink);\n",
              "        }\n",
              "      </script>\n",
              "    </div>\n",
              "  </div>\n"
            ]
          },
          "metadata": {},
          "execution_count": 26
        }
      ],
      "source": [
        "all_strikes.groupby('TIME_OF_DAY').agg({'total_struck':\"mean\",\"total_damaged\":'mean'})"
      ]
    },
    {
      "cell_type": "markdown",
      "id": "0c5e2d10-789b-4584-afdc-091dcdc3a0ca",
      "metadata": {
        "id": "0c5e2d10-789b-4584-afdc-091dcdc3a0ca"
      },
      "source": [
        "#### Task 5.4\n",
        "\n",
        "Do warnings help?\\\n",
        "Create a table showing the total number of strikes (`STR_total`) when a warning was issued or not issued (column `WARNED`).\\\n",
        "Omit rows where it is unknown whether or not a warning was issued."
      ]
    },
    {
      "cell_type": "code",
      "execution_count": null,
      "id": "9f606f2b-7653-4dab-bfd3-fa8f500037ee",
      "metadata": {
        "id": "9f606f2b-7653-4dab-bfd3-fa8f500037ee",
        "colab": {
          "base_uri": "https://localhost:8080/"
        },
        "outputId": "c17ae8cf-39b3-4f92-8b02-1d04afade5ea"
      },
      "outputs": [
        {
          "output_type": "execute_result",
          "data": {
            "text/plain": [
              "WARNED\n",
              "No     58975\n",
              "Yes    47563\n",
              "Name: total_struck, dtype: int64"
            ]
          },
          "metadata": {},
          "execution_count": 27
        }
      ],
      "source": [
        "dd = all_strikes[all_strikes['WARNED'] != 'Unknown']\n",
        "dd.groupby('WARNED')['total_struck'].count()"
      ]
    },
    {
      "cell_type": "markdown",
      "id": "19434c9a-6498-40b1-aa71-14056a2254d7",
      "metadata": {
        "id": "19434c9a-6498-40b1-aa71-14056a2254d7"
      },
      "source": [
        "#### Task 5.5\n",
        "Who reports the incidents most often? Use the column `PERSON` to find out."
      ]
    },
    {
      "cell_type": "code",
      "execution_count": null,
      "id": "d144a155-12a1-4388-823a-8ed6a9462a5f",
      "metadata": {
        "id": "d144a155-12a1-4388-823a-8ed6a9462a5f",
        "colab": {
          "base_uri": "https://localhost:8080/"
        },
        "outputId": "fb147a01-0949-4dd7-d82b-986cd2fd4160"
      },
      "outputs": [
        {
          "output_type": "stream",
          "name": "stdout",
          "text": [
            "Airport Operations reportes the most incidents\n"
          ]
        }
      ],
      "source": [
        "condi = all_strikes[all_strikes['WARNED'] == 'Yes']\n",
        "dd = all_strikes[condition]\n",
        "print(f'{dd[\"PERSON\"].value_counts().index[0]} reportes the most incidents')"
      ]
    },
    {
      "cell_type": "markdown",
      "id": "07b08342-d6ad-4424-af6d-7ac34b1d1b02",
      "metadata": {
        "id": "07b08342-d6ad-4424-af6d-7ac34b1d1b02"
      },
      "source": [
        "#### Task 5.6\n",
        "\n",
        "Who reports the incidents most often **when there is damage to the aircraft**?\n",
        "\n",
        "Create a table that displays the reporting person (`PERSON`) and the total damage (`DMG_total`) and total strikes (`STR_total`)"
      ]
    },
    {
      "cell_type": "code",
      "execution_count": null,
      "id": "e072883c-1774-4d13-9281-86d590c55121",
      "metadata": {
        "id": "e072883c-1774-4d13-9281-86d590c55121",
        "colab": {
          "base_uri": "https://localhost:8080/"
        },
        "outputId": "5a3fb6a5-7dd1-488e-feff-00c26b25634f"
      },
      "outputs": [
        {
          "output_type": "stream",
          "name": "stdout",
          "text": [
            "Airport Operations reportes the most incidents\n"
          ]
        }
      ],
      "source": [
        "dd = all_strikes[(all_strikes['WARNED'] == 'Yes') & (all_strikes['total_damaged'] == 1)]\n",
        "print(f'{dd[\"PERSON\"].value_counts().index[0]} reportes the most incidents')"
      ]
    },
    {
      "cell_type": "markdown",
      "id": "7c6c3411-5fd3-426a-bd5a-08151e17cf75",
      "metadata": {
        "jp-MarkdownHeadingCollapsed": true,
        "tags": [],
        "id": "7c6c3411-5fd3-426a-bd5a-08151e17cf75"
      },
      "source": [
        "## Task 6 - Data Visualization"
      ]
    },
    {
      "cell_type": "markdown",
      "id": "25e38b11-2d62-4809-91a5-1d780573e73a",
      "metadata": {
        "id": "25e38b11-2d62-4809-91a5-1d780573e73a"
      },
      "source": [
        "#### Task 6.1\n",
        "\n",
        "Present **one** histogram plot that contains **two** distributions: the `SPEED` when there was and wasn't a warning (column `WARNED`)\\\n",
        "Note:\n",
        "* Remove outliers: that is, remove the two rows where the speed is higher than 1000 mph.\n",
        "* Do not display incidents with an Unknown warning.\n",
        "* Do not use more than 20 bins (see [histplot documentation](https://seaborn.pydata.org/generated/seaborn.histplot.html) )"
      ]
    },
    {
      "cell_type": "code",
      "execution_count": null,
      "id": "1793a93a-2d56-4bd5-9d2a-4707bba2b391",
      "metadata": {
        "id": "1793a93a-2d56-4bd5-9d2a-4707bba2b391"
      },
      "outputs": [],
      "source": [
        "## Remove outliers\n",
        "condition = all_strikes[all_strikes['SPEED']>1000].index\n",
        "all_strikes.drop(condition,inplace=True)"
      ]
    },
    {
      "cell_type": "code",
      "source": [
        "import seaborn as sns\n",
        "import matplotlib.pyplot as plt\n",
        "\n",
        "\n",
        "plt.figure(figsize=(15, 7))\n",
        "## columns with warning\n",
        "plt.subplot(1,2,1)\n",
        "with_warning =  all_strikes[all_strikes['WARNED']==\"Yes\"].drop_duplicates(subset=['SPEED']).reset_index(drop=True)\n",
        "sns.histplot(data=with_warning, x='SPEED', bins=10)\n",
        "plt.xlabel(\"Speed\")\n",
        "plt.ylabel(\"Frequency\")\n",
        "plt.title(\"Speed when there was Warning\")\n",
        "\n",
        "## columns without warning\n",
        "plt.subplot(1,2,2)\n",
        "without_warning =  all_strikes[all_strikes['WARNED']==\"No\"].drop_duplicates(subset=['SPEED']).reset_index(drop=True)\n",
        "sns.histplot(data=without_warning, x='SPEED', bins=10)\n",
        "plt.xlabel(\"Speed\")\n",
        "plt.ylabel(\"Frequency\")\n",
        "plt.title(\"Speed when there wasn't Warning\")\n",
        "\n",
        "plt.tight_layout()\n",
        "plt.show()"
      ],
      "metadata": {
        "colab": {
          "base_uri": "https://localhost:8080/",
          "height": 593
        },
        "id": "VVt831yEnYKH",
        "outputId": "5b38dca1-ea04-4537-cbeb-29340af06046"
      },
      "id": "VVt831yEnYKH",
      "execution_count": null,
      "outputs": [
        {
          "output_type": "display_data",
          "data": {
            "text/plain": [
              "<Figure size 1500x700 with 2 Axes>"
            ],
            "image/png": "[encoded data removed]"
          },
          "metadata": {}
        }
      ]
    },
    {
      "cell_type": "markdown",
      "id": "3e7c13f3-d99e-4e9f-b210-ba5032a3ddb4",
      "metadata": {
        "tags": [],
        "id": "3e7c13f3-d99e-4e9f-b210-ba5032a3ddb4"
      },
      "source": [
        "#### Task 6.2\n",
        "\n",
        "Present a figure that compares the `DMG_Total` in 2017-2022 (`INCIDENT_YEAR`), for different warnings (`WARNED`) types."
      ]
    },
    {
      "cell_type": "code",
      "execution_count": null,
      "id": "3bf279c7-e1b6-4fbf-b90d-ea109cfa12e3",
      "metadata": {
        "id": "3bf279c7-e1b6-4fbf-b90d-ea109cfa12e3",
        "colab": {
          "base_uri": "https://localhost:8080/",
          "height": 635
        },
        "outputId": "a1b32611-8aa1-41b7-fe06-24d86cbda78f"
      },
      "outputs": [
        {
          "output_type": "execute_result",
          "data": {
            "text/plain": [
              "<Axes: xlabel='INCIDENT_YEAR', ylabel='total_damaged'>"
            ]
          },
          "metadata": {},
          "execution_count": 32
        },
        {
          "output_type": "display_data",
          "data": {
            "text/plain": [
              "<Figure size 1500x700 with 2 Axes>"
            ],
            "image/png": "[encoded data removed]"
          },
          "metadata": {}
        }
      ],
      "source": [
        "from operator import index\n",
        "plt.figure(figsize=(15,7))\n",
        "\n",
        "plt.subplot(1,2,1)\n",
        "data_yes = all_strikes[(all_strikes['INCIDENT_YEAR']>=2017) & (all_strikes['INCIDENT_YEAR']<=2022) & (all_strikes['WARNED']==\"Yes\")]\n",
        "grouped_data_yes = data_yes.groupby(\"INCIDENT_YEAR\")['total_damaged'].count().reset_index()\n",
        "sns.barplot(data = grouped_data_yes, x='INCIDENT_YEAR', y='total_damaged',palette='coolwarm')\n",
        "\n",
        "plt.subplot(1,2,2)\n",
        "data_no = all_strikes[(all_strikes['INCIDENT_YEAR']>=2017) & (all_strikes['INCIDENT_YEAR']<=2022) & (all_strikes['WARNED']==\"No\")]\n",
        "grouped_data_no = data_no.groupby(\"INCIDENT_YEAR\")['total_damaged'].count().reset_index()\n",
        "sns.barplot(data = grouped_data_no, x='INCIDENT_YEAR', y='total_damaged',palette='coolwarm')"
      ]
    },
    {
      "cell_type": "markdown",
      "id": "2b945aa5-71b6-4fb0-a129-e8449907f1c4",
      "metadata": {
        "id": "2b945aa5-71b6-4fb0-a129-e8449907f1c4"
      },
      "source": [
        "#### Task 6.3\n",
        "\n",
        "Create a figure that compares and displays **how many** strikes (`STR_total`) occurred in different phases of the flight (`PHASE_OF_FLIGHT`). The figure should only present cases where there are 8 or more total strikes (`STR_total`). Make sure the categories on the x-axis are readable."
      ]
    },
    {
      "cell_type": "code",
      "execution_count": null,
      "id": "afc19b6b-924c-41ff-ac5e-fe8b7a189911",
      "metadata": {
        "id": "afc19b6b-924c-41ff-ac5e-fe8b7a189911",
        "colab": {
          "base_uri": "https://localhost:8080/",
          "height": 465
        },
        "outputId": "0d56ee0d-173e-4b6b-e57a-fa1be61b4e36"
      },
      "outputs": [
        {
          "output_type": "display_data",
          "data": {
            "text/plain": [
              "<Figure size 1000x500 with 1 Axes>"
            ],
            "image/png": "[encoded data removed]"
          },
          "metadata": {}
        }
      ],
      "source": [
        "data = all_strikes[all_strikes['total_struck']>=8]\n",
        "grouped_data = data.groupby('PHASE_OF_FLIGHT')['total_struck'].sum().reset_index()\n",
        "\n",
        "plt.figure(figsize=(10,5))\n",
        "sns.barplot(data=grouped_data,x=\"PHASE_OF_FLIGHT\",y=\"total_struck\",palette='rocket')\n",
        "plt.show()"
      ]
    },
    {
      "cell_type": "markdown",
      "id": "3565e33c-e625-4e5a-be96-04abb9da135a",
      "metadata": {
        "id": "3565e33c-e625-4e5a-be96-04abb9da135a"
      },
      "source": [
        "#### Task 6.4\n",
        "\n",
        "Create a figure that displays the correlation between the `HEIGHT` and the total strikes (`STR_total`)"
      ]
    },
    {
      "cell_type": "code",
      "execution_count": null,
      "id": "28e10b9e-7e96-4186-84d7-907d919522b8",
      "metadata": {
        "id": "28e10b9e-7e96-4186-84d7-907d919522b8",
        "colab": {
          "base_uri": "https://localhost:8080/"
        },
        "outputId": "b1d4a3a5-4f62-4130-e37f-ac6ac0ae8830"
      },
      "outputs": [
        {
          "output_type": "stream",
          "name": "stdout",
          "text": [
            "Correlation between height and total_struck\n",
            "                HEIGHT  total_struck\n",
            "HEIGHT        1.000000      0.028261\n",
            "total_struck  0.028261      1.000000\n"
          ]
        }
      ],
      "source": [
        "print(\"Correlation between height and total_struck\")\n",
        "correlation = all_strikes[['HEIGHT','total_struck']].corr()\n",
        "print(correlation)"
      ]
    },
    {
      "cell_type": "code",
      "source": [
        "sns.heatmap(correlation, cmap='coolwarm', annot=True)"
      ],
      "metadata": {
        "colab": {
          "base_uri": "https://localhost:8080/",
          "height": 452
        },
        "id": "UyPoDGZ1VEyO",
        "outputId": "78abed2a-7b07-4ef2-c6b8-4fb2587c14d4"
      },
      "id": "UyPoDGZ1VEyO",
      "execution_count": null,
      "outputs": [
        {
          "output_type": "execute_result",
          "data": {
            "text/plain": [
              "<Axes: >"
            ]
          },
          "metadata": {},
          "execution_count": 35
        },
        {
          "output_type": "display_data",
          "data": {
            "text/plain": [
              "<Figure size 640x480 with 2 Axes>"
            ],
            "image/png": "[encoded data removed]"
          },
          "metadata": {}
        }
      ]
    },
    {
      "cell_type": "markdown",
      "id": "06df5cc8-eb15-4260-b170-690eb8ba24f9",
      "metadata": {
        "id": "06df5cc8-eb15-4260-b170-690eb8ba24f9"
      },
      "source": [
        "#### Task 6.5\n",
        "\n",
        "Create a figure that shows the **median** speed in different times of the day (`SPEED`, `TIME_OF_DAY`).\n",
        "Do not show cases where the speed is higher than 500 mph."
      ]
    },
    {
      "cell_type": "code",
      "execution_count": null,
      "id": "eb50fbc6-64fb-45a6-8dc9-b4355645704b",
      "metadata": {
        "id": "eb50fbc6-64fb-45a6-8dc9-b4355645704b",
        "colab": {
          "base_uri": "https://localhost:8080/",
          "height": 449
        },
        "outputId": "c590d06b-5180-4dbd-cbb4-44e38301433e"
      },
      "outputs": [
        {
          "output_type": "display_data",
          "data": {
            "text/plain": [
              "<Figure size 640x480 with 1 Axes>"
            ],
            "image/png": "[encoded data removed]"
          },
          "metadata": {}
        }
      ],
      "source": [
        "data = all_strikes[all_strikes['SPEED']<=500]\n",
        "grouped_data = data.groupby(\"TIME_OF_DAY\")['SPEED'].median().reset_index()\n",
        "\n",
        "sns.barplot(data=grouped_data, x=\"TIME_OF_DAY\", y=\"SPEED\", palette = \"ocean\")\n",
        "plt.show()"
      ]
    },
    {
      "cell_type": "markdown",
      "id": "8dfcecb1-060d-409c-8ed5-de4931a78a4f",
      "metadata": {
        "jp-MarkdownHeadingCollapsed": true,
        "tags": [],
        "id": "8dfcecb1-060d-409c-8ed5-de4931a78a4f"
      },
      "source": [
        "## Task 7 - Statistics"
      ]
    },
    {
      "cell_type": "markdown",
      "id": "afae7c76-5b0f-4279-8583-bde3318d06f3",
      "metadata": {
        "id": "afae7c76-5b0f-4279-8583-bde3318d06f3"
      },
      "source": [
        "#### Task 7.1 (2 points):\n",
        "\n",
        "Which type of t-test should be used to determine if there is a statistical difference between the number of strikes (`STR_total`) when there was\\wasn't a warning (`WARNED=Yes\\No`)"
      ]
    },
    {
      "cell_type": "markdown",
      "source": [
        "\n",
        "\n",
        "```\n",
        "# This is formatted as code\n",
        "```\n",
        "\n",
        "--> Paired t-test"
      ],
      "metadata": {
        "id": "nc6BbsoAvixG"
      },
      "id": "nc6BbsoAvixG"
    },
    {
      "cell_type": "markdown",
      "id": "76722161-872a-4bcb-8fe2-1bbe431b0463",
      "metadata": {
        "tags": [],
        "id": "76722161-872a-4bcb-8fe2-1bbe431b0463"
      },
      "source": [
        "#### Task 7.2\n",
        "\n",
        "Apply the test you suggested in the previous task."
      ]
    },
    {
      "cell_type": "code",
      "source": [
        "from scipy import stats"
      ],
      "metadata": {
        "id": "WOkvvgQrobeo"
      },
      "id": "WOkvvgQrobeo",
      "execution_count": null,
      "outputs": []
    },
    {
      "cell_type": "code",
      "execution_count": null,
      "id": "23885df7-c857-4edc-b450-4f075b7b9250",
      "metadata": {
        "id": "23885df7-c857-4edc-b450-4f075b7b9250"
      },
      "outputs": [],
      "source": [
        "# extract rows with yes and no values\n",
        "df = all_strikes[(all_strikes['WARNED']==\"Yes\") | (all_strikes['WARNED']==\"No\")]\n",
        "\n",
        "# Aggregate the data across participants\n",
        "df_avg = pd.DataFrame(df.groupby(['INDEX_NR','WARNED'])['total_struck'].mean()).reset_index()"
      ]
    },
    {
      "cell_type": "code",
      "source": [
        "warning = df_avg[df_avg['WARNED'] == \"Yes\"]\n",
        "no_warning = df_avg[df_avg['WARNED'] == \"No\"]"
      ],
      "metadata": {
        "id": "4N6TqxROdAh2"
      },
      "id": "4N6TqxROdAh2",
      "execution_count": null,
      "outputs": []
    },
    {
      "cell_type": "code",
      "source": [
        "df_avg.head(2)"
      ],
      "metadata": {
        "colab": {
          "base_uri": "https://localhost:8080/",
          "height": 112
        },
        "id": "X2obRPgbzLdX",
        "outputId": "3990be68-2e35-47a2-8ab4-aec4e75055ad"
      },
      "id": "X2obRPgbzLdX",
      "execution_count": null,
      "outputs": [
        {
          "output_type": "execute_result",
          "data": {
            "text/plain": [
              "   INDEX_NR WARNED  total_struck\n",
              "0    608241     No           2.0\n",
              "1    608247     No           2.0"
            ],
            "text/html": [
              "\n",
              "\n",
              "  <div id=\"df-e3432ae7-0de9-43d6-8003-7f8ff92d4f5f\">\n",
              "    <div class=\"colab-df-container\">\n",
              "      <div>\n",
              "<style scoped>\n",
              "    .dataframe tbody tr th:only-of-type {\n",
              "        vertical-align: middle;\n",
              "    }\n",
              "\n",
              "    .dataframe tbody tr th {\n",
              "        vertical-align: top;\n",
              "    }\n",
              "\n",
              "    .dataframe thead th {\n",
              "        text-align: right;\n",
              "    }\n",
              "</style>\n",
              "<table border=\"1\" class=\"dataframe\">\n",
              "  <thead>\n",
              "    <tr style=\"text-align: right;\">\n",
              "      <th></th>\n",
              "      <th>INDEX_NR</th>\n",
              "      <th>WARNED</th>\n",
              "      <th>total_struck</th>\n",
              "    </tr>\n",
              "  </thead>\n",
              "  <tbody>\n",
              "    <tr>\n",
              "      <th>0</th>\n",
              "      <td>608241</td>\n",
              "      <td>No</td>\n",
              "      <td>2.0</td>\n",
              "    </tr>\n",
              "    <tr>\n",
              "      <th>1</th>\n",
              "      <td>608247</td>\n",
              "      <td>No</td>\n",
              "      <td>2.0</td>\n",
              "    </tr>\n",
              "  </tbody>\n",
              "</table>\n",
              "</div>\n",
              "      <button class=\"colab-df-convert\" onclick=\"convertToInteractive('df-e3432ae7-0de9-43d6-8003-7f8ff92d4f5f')\"\n",
              "              title=\"Convert this dataframe to an interactive table.\"\n",
              "              style=\"display:none;\">\n",
              "\n",
              "  <svg xmlns=\"http://www.w3.org/2000/svg\" height=\"24px\"viewBox=\"0 0 24 24\"\n",
              "       width=\"24px\">\n",
              "    <path d=\"M0 0h24v24H0V0z\" fill=\"none\"/>\n",
              "    <path d=\"M18.56 5.44l.94 2.06.94-2.06 2.06-.94-2.06-.94-.94-2.06-.94 2.06-2.06.94zm-11 1L8.5 8.5l.94-2.06 2.06-.94-2.06-.94L8.5 2.5l-.94 2.06-2.06.94zm10 10l.94 2.06.94-2.06 2.06-.94-2.06-.94-.94-2.06-.94 2.06-2.06.94z\"/><path d=\"M17.41 7.96l-1.37-1.37c-.4-.4-.92-.59-1.43-.59-.52 0-1.04.2-1.43.59L10.3 9.45l-7.72 7.72c-.78.78-.78 2.05 0 2.83L4 21.41c.39.39.9.59 1.41.59.51 0 1.02-.2 1.41-.59l7.78-7.78 2.81-2.81c.8-.78.8-2.07 0-2.86zM5.41 20L4 18.59l7.72-7.72 1.47 1.35L5.41 20z\"/>\n",
              "  </svg>\n",
              "      </button>\n",
              "\n",
              "\n",
              "\n",
              "    <div id=\"df-5d31caae-39bc-48eb-a6a2-8681af39437c\">\n",
              "      <button class=\"colab-df-quickchart\" onclick=\"quickchart('df-5d31caae-39bc-48eb-a6a2-8681af39437c')\"\n",
              "              title=\"Suggest charts.\"\n",
              "              style=\"display:none;\">\n",
              "\n",
              "<svg xmlns=\"http://www.w3.org/2000/svg\" height=\"24px\"viewBox=\"0 0 24 24\"\n",
              "     width=\"24px\">\n",
              "    <g>\n",
              "        <path d=\"M19 3H5c-1.1 0-2 .9-2 2v14c0 1.1.9 2 2 2h14c1.1 0 2-.9 2-2V5c0-1.1-.9-2-2-2zM9 17H7v-7h2v7zm4 0h-2V7h2v10zm4 0h-2v-4h2v4z\"/>\n",
              "    </g>\n",
              "</svg>\n",
              "      </button>\n",
              "    </div>\n",
              "\n",
              "<style>\n",
              "  .colab-df-quickchart {\n",
              "    background-color: #E8F0FE;\n",
              "    border: none;\n",
              "    border-radius: 50%;\n",
              "    cursor: pointer;\n",
              "    display: none;\n",
              "    fill: #1967D2;\n",
              "    height: 32px;\n",
              "    padding: 0 0 0 0;\n",
              "    width: 32px;\n",
              "  }\n",
              "\n",
              "  .colab-df-quickchart:hover {\n",
              "    background-color: #E2EBFA;\n",
              "    box-shadow: 0px 1px 2px rgba(60, 64, 67, 0.3), 0px 1px 3px 1px rgba(60, 64, 67, 0.15);\n",
              "    fill: #174EA6;\n",
              "  }\n",
              "\n",
              "  [theme=dark] .colab-df-quickchart {\n",
              "    background-color: #3B4455;\n",
              "    fill: #D2E3FC;\n",
              "  }\n",
              "\n",
              "  [theme=dark] .colab-df-quickchart:hover {\n",
              "    background-color: #434B5C;\n",
              "    box-shadow: 0px 1px 3px 1px rgba(0, 0, 0, 0.15);\n",
              "    filter: drop-shadow(0px 1px 2px rgba(0, 0, 0, 0.3));\n",
              "    fill: #FFFFFF;\n",
              "  }\n",
              "</style>\n",
              "\n",
              "    <script>\n",
              "      async function quickchart(key) {\n",
              "        const containerElement = document.querySelector('#' + key);\n",
              "        const charts = await google.colab.kernel.invokeFunction(\n",
              "            'suggestCharts', [key], {});\n",
              "      }\n",
              "    </script>\n",
              "\n",
              "      <script>\n",
              "\n",
              "function displayQuickchartButton(domScope) {\n",
              "  let quickchartButtonEl =\n",
              "    domScope.querySelector('#df-5d31caae-39bc-48eb-a6a2-8681af39437c button.colab-df-quickchart');\n",
              "  quickchartButtonEl.style.display =\n",
              "    google.colab.kernel.accessAllowed ? 'block' : 'none';\n",
              "}\n",
              "\n",
              "        displayQuickchartButton(document);\n",
              "      </script>\n",
              "      <style>\n",
              "    .colab-df-container {\n",
              "      display:flex;\n",
              "      flex-wrap:wrap;\n",
              "      gap: 12px;\n",
              "    }\n",
              "\n",
              "    .colab-df-convert {\n",
              "      background-color: #E8F0FE;\n",
              "      border: none;\n",
              "      border-radius: 50%;\n",
              "      cursor: pointer;\n",
              "      display: none;\n",
              "      fill: #1967D2;\n",
              "      height: 32px;\n",
              "      padding: 0 0 0 0;\n",
              "      width: 32px;\n",
              "    }\n",
              "\n",
              "    .colab-df-convert:hover {\n",
              "      background-color: #E2EBFA;\n",
              "      box-shadow: 0px 1px 2px rgba(60, 64, 67, 0.3), 0px 1px 3px 1px rgba(60, 64, 67, 0.15);\n",
              "      fill: #174EA6;\n",
              "    }\n",
              "\n",
              "    [theme=dark] .colab-df-convert {\n",
              "      background-color: #3B4455;\n",
              "      fill: #D2E3FC;\n",
              "    }\n",
              "\n",
              "    [theme=dark] .colab-df-convert:hover {\n",
              "      background-color: #434B5C;\n",
              "      box-shadow: 0px 1px 3px 1px rgba(0, 0, 0, 0.15);\n",
              "      filter: drop-shadow(0px 1px 2px rgba(0, 0, 0, 0.3));\n",
              "      fill: #FFFFFF;\n",
              "    }\n",
              "  </style>\n",
              "\n",
              "      <script>\n",
              "        const buttonEl =\n",
              "          document.querySelector('#df-e3432ae7-0de9-43d6-8003-7f8ff92d4f5f button.colab-df-convert');\n",
              "        buttonEl.style.display =\n",
              "          google.colab.kernel.accessAllowed ? 'block' : 'none';\n",
              "\n",
              "        async function convertToInteractive(key) {\n",
              "          const element = document.querySelector('#df-e3432ae7-0de9-43d6-8003-7f8ff92d4f5f');\n",
              "          const dataTable =\n",
              "            await google.colab.kernel.invokeFunction('convertToInteractive',\n",
              "                                                     [key], {});\n",
              "          if (!dataTable) return;\n",
              "\n",
              "          const docLinkHtml = 'Like what you see? Visit the ' +\n",
              "            '<a target=\"_blank\" href=https://colab.research.google.com/notebooks/data_table.ipynb>data table notebook</a>'\n",
              "            + ' to learn more about interactive tables.';\n",
              "          element.innerHTML = '';\n",
              "          dataTable['output_type'] = 'display_data';\n",
              "          await google.colab.output.renderOutput(dataTable, element);\n",
              "          const docLink = document.createElement('div');\n",
              "          docLink.innerHTML = docLinkHtml;\n",
              "          element.appendChild(docLink);\n",
              "        }\n",
              "      </script>\n",
              "    </div>\n",
              "  </div>\n"
            ]
          },
          "metadata": {},
          "execution_count": 40
        }
      ]
    },
    {
      "cell_type": "code",
      "source": [
        "df_avg.shape"
      ],
      "metadata": {
        "colab": {
          "base_uri": "https://localhost:8080/"
        },
        "id": "QhnaBAVP1ilp",
        "outputId": "a47f2b01-eb05-41f1-cedf-4a9bb15a35a0"
      },
      "id": "QhnaBAVP1ilp",
      "execution_count": null,
      "outputs": [
        {
          "output_type": "execute_result",
          "data": {
            "text/plain": [
              "(106536, 3)"
            ]
          },
          "metadata": {},
          "execution_count": 41
        }
      ]
    },
    {
      "cell_type": "code",
      "source": [
        "import scipy.stats as stats\n",
        "\n",
        "# Sample an equal number of data points from both datasets\n",
        "sample_size = min(len(warning), len(no_warning))\n",
        "warning_sample = warning.sample(n=sample_size, random_state=23)\n",
        "no_warning_sample = no_warning.sample(n=sample_size, random_state=23)\n",
        "\n",
        "# Run the paired t-test\n",
        "t, p = stats.ttest_rel(warning_sample['total_struck'], no_warning_sample['total_struck'])\n",
        "print(f'Warning vs. No_warning t = {str(t)} , p = {str(p)}')"
      ],
      "metadata": {
        "colab": {
          "base_uri": "https://localhost:8080/"
        },
        "id": "wHI2VaJv3iZ_",
        "outputId": "835e4505-d801-480a-c212-5c4ab584f40e"
      },
      "id": "wHI2VaJv3iZ_",
      "execution_count": null,
      "outputs": [
        {
          "output_type": "stream",
          "name": "stdout",
          "text": [
            "Warning vs. No_warning t = -9.4580991497364 , p = 3.273525638233298e-21\n"
          ]
        }
      ]
    },
    {
      "cell_type": "code",
      "source": [
        "print(f\"Warning vs. N_warning t = {str(round(t,2))} , p = {str(round(p,4))}\")"
      ],
      "metadata": {
        "colab": {
          "base_uri": "https://localhost:8080/"
        },
        "id": "T6-6LqqA35lD",
        "outputId": "d09dcdaa-cd52-4fbb-c8aa-0dab4ef85689"
      },
      "id": "T6-6LqqA35lD",
      "execution_count": null,
      "outputs": [
        {
          "output_type": "stream",
          "name": "stdout",
          "text": [
            "Warning vs. N_warning t = -9.46 , p = 0.0\n"
          ]
        }
      ]
    },
    {
      "cell_type": "markdown",
      "source": [
        " The p value is not actually zero by the way, but note in the original output the p value was reported in scientific notation, ending in e-21. This means that the p value is actually 0.000000000000000000003273525638233298. We would typically report this as p < .0001, since we rounded to 4 decimal places (which is fairly typical for reporting p values)."
      ],
      "metadata": {
        "id": "FPNm9mbt6TI-"
      },
      "id": "FPNm9mbt6TI-"
    },
    {
      "cell_type": "markdown",
      "id": "c9788afb-1045-4360-b193-3a884c0885d5",
      "metadata": {
        "id": "c9788afb-1045-4360-b193-3a884c0885d5"
      },
      "source": [
        "#### Task 7.3  \n",
        "\n",
        "What do the results tell us?\n",
        "Briefly interpret the results."
      ]
    },
    {
      "cell_type": "markdown",
      "source": [
        "The extremely low p-value of 3.2735e-21, which is essentially zero, indicates strong statistical evidence against the null hypothesis. In other words, the probability of observing such a large difference in means (or larger) between the \"Warning\" and \"No Warning\" conditions due to random chance alone is extremely unlikely.\n",
        "\n",
        "Therefore, we can conclude that there is a significant difference in total strike between the \"Warning\" and \"No Warning\" conditions. The low p-value suggests that this difference is not likely to have occurred by random variation, but rather suggests a real effect of the warning condition on reaction times."
      ],
      "metadata": {
        "id": "PwTJaVv57zVq"
      },
      "id": "PwTJaVv57zVq"
    },
    {
      "cell_type": "markdown",
      "id": "1393aaa3-391c-4655-809f-5429400ea5b2",
      "metadata": {
        "id": "1393aaa3-391c-4655-809f-5429400ea5b2"
      },
      "source": [
        "#### Task 7.4\n",
        "\n",
        "Which type of test should be used to determine whether the proportion of total damage (`DMG_total`) out of all the total strikes (`STR_total`), is constant in all `INCIDENT_YEAR`?"
      ]
    },
    {
      "cell_type": "markdown",
      "source": [
        "--> Chi-square"
      ],
      "metadata": {
        "id": "WxRaGV3OWGq7"
      },
      "id": "WxRaGV3OWGq7"
    },
    {
      "cell_type": "markdown",
      "id": "a90b8a67-ab94-49e0-b1e3-4b8caea0ed80",
      "metadata": {
        "id": "a90b8a67-ab94-49e0-b1e3-4b8caea0ed80"
      },
      "source": [
        "#### Task 7.5\n",
        "\n",
        "Apply the test you suggested in the previous task."
      ]
    },
    {
      "cell_type": "markdown",
      "source": [
        "ho = the proportion of total damage out of all the total strikes is not constant in all incident year\n",
        "\n",
        "h1 = the proportion of total damage out of all the total strikes is constant in all incident year"
      ],
      "metadata": {
        "id": "hQUCN-y2WaTO"
      },
      "id": "hQUCN-y2WaTO"
    },
    {
      "cell_type": "code",
      "source": [
        "# extract the relevent column\n",
        "df = all_strikes.groupby(\"INCIDENT_YEAR\").agg({\"total_damaged\":\"sum\",\"total_struck\":\"sum\"}).reset_index()\n",
        "df.head(5)"
      ],
      "metadata": {
        "colab": {
          "base_uri": "https://localhost:8080/",
          "height": 206
        },
        "id": "efsvQVTXXPn1",
        "outputId": "505b5bb0-f992-40bd-cf27-9923467f9f62"
      },
      "id": "efsvQVTXXPn1",
      "execution_count": null,
      "outputs": [
        {
          "output_type": "execute_result",
          "data": {
            "text/plain": [
              "   INCIDENT_YEAR  total_damaged  total_struck\n",
              "0           1990            434          3307\n",
              "1           1991            462          4279\n",
              "2           1992            451          4701\n",
              "3           1993            482          4722\n",
              "4           1994            600          5094"
            ],
            "text/html": [
              "\n",
              "\n",
              "  <div id=\"df-375ecc73-c426-48fc-a454-6f5fdcdbcede\">\n",
              "    <div class=\"colab-df-container\">\n",
              "      <div>\n",
              "<style scoped>\n",
              "    .dataframe tbody tr th:only-of-type {\n",
              "        vertical-align: middle;\n",
              "    }\n",
              "\n",
              "    .dataframe tbody tr th {\n",
              "        vertical-align: top;\n",
              "    }\n",
              "\n",
              "    .dataframe thead th {\n",
              "        text-align: right;\n",
              "    }\n",
              "</style>\n",
              "<table border=\"1\" class=\"dataframe\">\n",
              "  <thead>\n",
              "    <tr style=\"text-align: right;\">\n",
              "      <th></th>\n",
              "      <th>INCIDENT_YEAR</th>\n",
              "      <th>total_damaged</th>\n",
              "      <th>total_struck</th>\n",
              "    </tr>\n",
              "  </thead>\n",
              "  <tbody>\n",
              "    <tr>\n",
              "      <th>0</th>\n",
              "      <td>1990</td>\n",
              "      <td>434</td>\n",
              "      <td>3307</td>\n",
              "    </tr>\n",
              "    <tr>\n",
              "      <th>1</th>\n",
              "      <td>1991</td>\n",
              "      <td>462</td>\n",
              "      <td>4279</td>\n",
              "    </tr>\n",
              "    <tr>\n",
              "      <th>2</th>\n",
              "      <td>1992</td>\n",
              "      <td>451</td>\n",
              "      <td>4701</td>\n",
              "    </tr>\n",
              "    <tr>\n",
              "      <th>3</th>\n",
              "      <td>1993</td>\n",
              "      <td>482</td>\n",
              "      <td>4722</td>\n",
              "    </tr>\n",
              "    <tr>\n",
              "      <th>4</th>\n",
              "      <td>1994</td>\n",
              "      <td>600</td>\n",
              "      <td>5094</td>\n",
              "    </tr>\n",
              "  </tbody>\n",
              "</table>\n",
              "</div>\n",
              "      <button class=\"colab-df-convert\" onclick=\"convertToInteractive('df-375ecc73-c426-48fc-a454-6f5fdcdbcede')\"\n",
              "              title=\"Convert this dataframe to an interactive table.\"\n",
              "              style=\"display:none;\">\n",
              "\n",
              "  <svg xmlns=\"http://www.w3.org/2000/svg\" height=\"24px\"viewBox=\"0 0 24 24\"\n",
              "       width=\"24px\">\n",
              "    <path d=\"M0 0h24v24H0V0z\" fill=\"none\"/>\n",
              "    <path d=\"M18.56 5.44l.94 2.06.94-2.06 2.06-.94-2.06-.94-.94-2.06-.94 2.06-2.06.94zm-11 1L8.5 8.5l.94-2.06 2.06-.94-2.06-.94L8.5 2.5l-.94 2.06-2.06.94zm10 10l.94 2.06.94-2.06 2.06-.94-2.06-.94-.94-2.06-.94 2.06-2.06.94z\"/><path d=\"M17.41 7.96l-1.37-1.37c-.4-.4-.92-.59-1.43-.59-.52 0-1.04.2-1.43.59L10.3 9.45l-7.72 7.72c-.78.78-.78 2.05 0 2.83L4 21.41c.39.39.9.59 1.41.59.51 0 1.02-.2 1.41-.59l7.78-7.78 2.81-2.81c.8-.78.8-2.07 0-2.86zM5.41 20L4 18.59l7.72-7.72 1.47 1.35L5.41 20z\"/>\n",
              "  </svg>\n",
              "      </button>\n",
              "\n",
              "\n",
              "\n",
              "    <div id=\"df-23741591-65a4-48b7-9431-3d15c22b91f5\">\n",
              "      <button class=\"colab-df-quickchart\" onclick=\"quickchart('df-23741591-65a4-48b7-9431-3d15c22b91f5')\"\n",
              "              title=\"Suggest charts.\"\n",
              "              style=\"display:none;\">\n",
              "\n",
              "<svg xmlns=\"http://www.w3.org/2000/svg\" height=\"24px\"viewBox=\"0 0 24 24\"\n",
              "     width=\"24px\">\n",
              "    <g>\n",
              "        <path d=\"M19 3H5c-1.1 0-2 .9-2 2v14c0 1.1.9 2 2 2h14c1.1 0 2-.9 2-2V5c0-1.1-.9-2-2-2zM9 17H7v-7h2v7zm4 0h-2V7h2v10zm4 0h-2v-4h2v4z\"/>\n",
              "    </g>\n",
              "</svg>\n",
              "      </button>\n",
              "    </div>\n",
              "\n",
              "<style>\n",
              "  .colab-df-quickchart {\n",
              "    background-color: #E8F0FE;\n",
              "    border: none;\n",
              "    border-radius: 50%;\n",
              "    cursor: pointer;\n",
              "    display: none;\n",
              "    fill: #1967D2;\n",
              "    height: 32px;\n",
              "    padding: 0 0 0 0;\n",
              "    width: 32px;\n",
              "  }\n",
              "\n",
              "  .colab-df-quickchart:hover {\n",
              "    background-color: #E2EBFA;\n",
              "    box-shadow: 0px 1px 2px rgba(60, 64, 67, 0.3), 0px 1px 3px 1px rgba(60, 64, 67, 0.15);\n",
              "    fill: #174EA6;\n",
              "  }\n",
              "\n",
              "  [theme=dark] .colab-df-quickchart {\n",
              "    background-color: #3B4455;\n",
              "    fill: #D2E3FC;\n",
              "  }\n",
              "\n",
              "  [theme=dark] .colab-df-quickchart:hover {\n",
              "    background-color: #434B5C;\n",
              "    box-shadow: 0px 1px 3px 1px rgba(0, 0, 0, 0.15);\n",
              "    filter: drop-shadow(0px 1px 2px rgba(0, 0, 0, 0.3));\n",
              "    fill: #FFFFFF;\n",
              "  }\n",
              "</style>\n",
              "\n",
              "    <script>\n",
              "      async function quickchart(key) {\n",
              "        const containerElement = document.querySelector('#' + key);\n",
              "        const charts = await google.colab.kernel.invokeFunction(\n",
              "            'suggestCharts', [key], {});\n",
              "      }\n",
              "    </script>\n",
              "\n",
              "      <script>\n",
              "\n",
              "function displayQuickchartButton(domScope) {\n",
              "  let quickchartButtonEl =\n",
              "    domScope.querySelector('#df-23741591-65a4-48b7-9431-3d15c22b91f5 button.colab-df-quickchart');\n",
              "  quickchartButtonEl.style.display =\n",
              "    google.colab.kernel.accessAllowed ? 'block' : 'none';\n",
              "}\n",
              "\n",
              "        displayQuickchartButton(document);\n",
              "      </script>\n",
              "      <style>\n",
              "    .colab-df-container {\n",
              "      display:flex;\n",
              "      flex-wrap:wrap;\n",
              "      gap: 12px;\n",
              "    }\n",
              "\n",
              "    .colab-df-convert {\n",
              "      background-color: #E8F0FE;\n",
              "      border: none;\n",
              "      border-radius: 50%;\n",
              "      cursor: pointer;\n",
              "      display: none;\n",
              "      fill: #1967D2;\n",
              "      height: 32px;\n",
              "      padding: 0 0 0 0;\n",
              "      width: 32px;\n",
              "    }\n",
              "\n",
              "    .colab-df-convert:hover {\n",
              "      background-color: #E2EBFA;\n",
              "      box-shadow: 0px 1px 2px rgba(60, 64, 67, 0.3), 0px 1px 3px 1px rgba(60, 64, 67, 0.15);\n",
              "      fill: #174EA6;\n",
              "    }\n",
              "\n",
              "    [theme=dark] .colab-df-convert {\n",
              "      background-color: #3B4455;\n",
              "      fill: #D2E3FC;\n",
              "    }\n",
              "\n",
              "    [theme=dark] .colab-df-convert:hover {\n",
              "      background-color: #434B5C;\n",
              "      box-shadow: 0px 1px 3px 1px rgba(0, 0, 0, 0.15);\n",
              "      filter: drop-shadow(0px 1px 2px rgba(0, 0, 0, 0.3));\n",
              "      fill: #FFFFFF;\n",
              "    }\n",
              "  </style>\n",
              "\n",
              "      <script>\n",
              "        const buttonEl =\n",
              "          document.querySelector('#df-375ecc73-c426-48fc-a454-6f5fdcdbcede button.colab-df-convert');\n",
              "        buttonEl.style.display =\n",
              "          google.colab.kernel.accessAllowed ? 'block' : 'none';\n",
              "\n",
              "        async function convertToInteractive(key) {\n",
              "          const element = document.querySelector('#df-375ecc73-c426-48fc-a454-6f5fdcdbcede');\n",
              "          const dataTable =\n",
              "            await google.colab.kernel.invokeFunction('convertToInteractive',\n",
              "                                                     [key], {});\n",
              "          if (!dataTable) return;\n",
              "\n",
              "          const docLinkHtml = 'Like what you see? Visit the ' +\n",
              "            '<a target=\"_blank\" href=https://colab.research.google.com/notebooks/data_table.ipynb>data table notebook</a>'\n",
              "            + ' to learn more about interactive tables.';\n",
              "          element.innerHTML = '';\n",
              "          dataTable['output_type'] = 'display_data';\n",
              "          await google.colab.output.renderOutput(dataTable, element);\n",
              "          const docLink = document.createElement('div');\n",
              "          docLink.innerHTML = docLinkHtml;\n",
              "          element.appendChild(docLink);\n",
              "        }\n",
              "      </script>\n",
              "    </div>\n",
              "  </div>\n"
            ]
          },
          "metadata": {},
          "execution_count": 48
        }
      ]
    },
    {
      "cell_type": "code",
      "source": [
        "# creating the proportion column\n",
        "df['proportion'] = (df['total_damaged'])/(df['total_struck'])\n",
        "df.head(5)"
      ],
      "metadata": {
        "colab": {
          "base_uri": "https://localhost:8080/",
          "height": 206
        },
        "id": "z7bNdkT4Y1ph",
        "outputId": "488a2829-5329-4de2-ef93-29a8c2cd39ee"
      },
      "id": "z7bNdkT4Y1ph",
      "execution_count": null,
      "outputs": [
        {
          "output_type": "execute_result",
          "data": {
            "text/plain": [
              "   INCIDENT_YEAR  total_damaged  total_struck  proportion\n",
              "0           1990            434          3307    0.131237\n",
              "1           1991            462          4279    0.107969\n",
              "2           1992            451          4701    0.095937\n",
              "3           1993            482          4722    0.102075\n",
              "4           1994            600          5094    0.117786"
            ],
            "text/html": [
              "\n",
              "\n",
              "  <div id=\"df-6b1a6d06-5e2f-4c3c-b787-17ad82c420e5\">\n",
              "    <div class=\"colab-df-container\">\n",
              "      <div>\n",
              "<style scoped>\n",
              "    .dataframe tbody tr th:only-of-type {\n",
              "        vertical-align: middle;\n",
              "    }\n",
              "\n",
              "    .dataframe tbody tr th {\n",
              "        vertical-align: top;\n",
              "    }\n",
              "\n",
              "    .dataframe thead th {\n",
              "        text-align: right;\n",
              "    }\n",
              "</style>\n",
              "<table border=\"1\" class=\"dataframe\">\n",
              "  <thead>\n",
              "    <tr style=\"text-align: right;\">\n",
              "      <th></th>\n",
              "      <th>INCIDENT_YEAR</th>\n",
              "      <th>total_damaged</th>\n",
              "      <th>total_struck</th>\n",
              "      <th>proportion</th>\n",
              "    </tr>\n",
              "  </thead>\n",
              "  <tbody>\n",
              "    <tr>\n",
              "      <th>0</th>\n",
              "      <td>1990</td>\n",
              "      <td>434</td>\n",
              "      <td>3307</td>\n",
              "      <td>0.131237</td>\n",
              "    </tr>\n",
              "    <tr>\n",
              "      <th>1</th>\n",
              "      <td>1991</td>\n",
              "      <td>462</td>\n",
              "      <td>4279</td>\n",
              "      <td>0.107969</td>\n",
              "    </tr>\n",
              "    <tr>\n",
              "      <th>2</th>\n",
              "      <td>1992</td>\n",
              "      <td>451</td>\n",
              "      <td>4701</td>\n",
              "      <td>0.095937</td>\n",
              "    </tr>\n",
              "    <tr>\n",
              "      <th>3</th>\n",
              "      <td>1993</td>\n",
              "      <td>482</td>\n",
              "      <td>4722</td>\n",
              "      <td>0.102075</td>\n",
              "    </tr>\n",
              "    <tr>\n",
              "      <th>4</th>\n",
              "      <td>1994</td>\n",
              "      <td>600</td>\n",
              "      <td>5094</td>\n",
              "      <td>0.117786</td>\n",
              "    </tr>\n",
              "  </tbody>\n",
              "</table>\n",
              "</div>\n",
              "      <button class=\"colab-df-convert\" onclick=\"convertToInteractive('df-6b1a6d06-5e2f-4c3c-b787-17ad82c420e5')\"\n",
              "              title=\"Convert this dataframe to an interactive table.\"\n",
              "              style=\"display:none;\">\n",
              "\n",
              "  <svg xmlns=\"http://www.w3.org/2000/svg\" height=\"24px\"viewBox=\"0 0 24 24\"\n",
              "       width=\"24px\">\n",
              "    <path d=\"M0 0h24v24H0V0z\" fill=\"none\"/>\n",
              "    <path d=\"M18.56 5.44l.94 2.06.94-2.06 2.06-.94-2.06-.94-.94-2.06-.94 2.06-2.06.94zm-11 1L8.5 8.5l.94-2.06 2.06-.94-2.06-.94L8.5 2.5l-.94 2.06-2.06.94zm10 10l.94 2.06.94-2.06 2.06-.94-2.06-.94-.94-2.06-.94 2.06-2.06.94z\"/><path d=\"M17.41 7.96l-1.37-1.37c-.4-.4-.92-.59-1.43-.59-.52 0-1.04.2-1.43.59L10.3 9.45l-7.72 7.72c-.78.78-.78 2.05 0 2.83L4 21.41c.39.39.9.59 1.41.59.51 0 1.02-.2 1.41-.59l7.78-7.78 2.81-2.81c.8-.78.8-2.07 0-2.86zM5.41 20L4 18.59l7.72-7.72 1.47 1.35L5.41 20z\"/>\n",
              "  </svg>\n",
              "      </button>\n",
              "\n",
              "\n",
              "\n",
              "    <div id=\"df-7b289299-5fd9-49c8-be01-3efca36c9967\">\n",
              "      <button class=\"colab-df-quickchart\" onclick=\"quickchart('df-7b289299-5fd9-49c8-be01-3efca36c9967')\"\n",
              "              title=\"Suggest charts.\"\n",
              "              style=\"display:none;\">\n",
              "\n",
              "<svg xmlns=\"http://www.w3.org/2000/svg\" height=\"24px\"viewBox=\"0 0 24 24\"\n",
              "     width=\"24px\">\n",
              "    <g>\n",
              "        <path d=\"M19 3H5c-1.1 0-2 .9-2 2v14c0 1.1.9 2 2 2h14c1.1 0 2-.9 2-2V5c0-1.1-.9-2-2-2zM9 17H7v-7h2v7zm4 0h-2V7h2v10zm4 0h-2v-4h2v4z\"/>\n",
              "    </g>\n",
              "</svg>\n",
              "      </button>\n",
              "    </div>\n",
              "\n",
              "<style>\n",
              "  .colab-df-quickchart {\n",
              "    background-color: #E8F0FE;\n",
              "    border: none;\n",
              "    border-radius: 50%;\n",
              "    cursor: pointer;\n",
              "    display: none;\n",
              "    fill: #1967D2;\n",
              "    height: 32px;\n",
              "    padding: 0 0 0 0;\n",
              "    width: 32px;\n",
              "  }\n",
              "\n",
              "  .colab-df-quickchart:hover {\n",
              "    background-color: #E2EBFA;\n",
              "    box-shadow: 0px 1px 2px rgba(60, 64, 67, 0.3), 0px 1px 3px 1px rgba(60, 64, 67, 0.15);\n",
              "    fill: #174EA6;\n",
              "  }\n",
              "\n",
              "  [theme=dark] .colab-df-quickchart {\n",
              "    background-color: #3B4455;\n",
              "    fill: #D2E3FC;\n",
              "  }\n",
              "\n",
              "  [theme=dark] .colab-df-quickchart:hover {\n",
              "    background-color: #434B5C;\n",
              "    box-shadow: 0px 1px 3px 1px rgba(0, 0, 0, 0.15);\n",
              "    filter: drop-shadow(0px 1px 2px rgba(0, 0, 0, 0.3));\n",
              "    fill: #FFFFFF;\n",
              "  }\n",
              "</style>\n",
              "\n",
              "    <script>\n",
              "      async function quickchart(key) {\n",
              "        const containerElement = document.querySelector('#' + key);\n",
              "        const charts = await google.colab.kernel.invokeFunction(\n",
              "            'suggestCharts', [key], {});\n",
              "      }\n",
              "    </script>\n",
              "\n",
              "      <script>\n",
              "\n",
              "function displayQuickchartButton(domScope) {\n",
              "  let quickchartButtonEl =\n",
              "    domScope.querySelector('#df-7b289299-5fd9-49c8-be01-3efca36c9967 button.colab-df-quickchart');\n",
              "  quickchartButtonEl.style.display =\n",
              "    google.colab.kernel.accessAllowed ? 'block' : 'none';\n",
              "}\n",
              "\n",
              "        displayQuickchartButton(document);\n",
              "      </script>\n",
              "      <style>\n",
              "    .colab-df-container {\n",
              "      display:flex;\n",
              "      flex-wrap:wrap;\n",
              "      gap: 12px;\n",
              "    }\n",
              "\n",
              "    .colab-df-convert {\n",
              "      background-color: #E8F0FE;\n",
              "      border: none;\n",
              "      border-radius: 50%;\n",
              "      cursor: pointer;\n",
              "      display: none;\n",
              "      fill: #1967D2;\n",
              "      height: 32px;\n",
              "      padding: 0 0 0 0;\n",
              "      width: 32px;\n",
              "    }\n",
              "\n",
              "    .colab-df-convert:hover {\n",
              "      background-color: #E2EBFA;\n",
              "      box-shadow: 0px 1px 2px rgba(60, 64, 67, 0.3), 0px 1px 3px 1px rgba(60, 64, 67, 0.15);\n",
              "      fill: #174EA6;\n",
              "    }\n",
              "\n",
              "    [theme=dark] .colab-df-convert {\n",
              "      background-color: #3B4455;\n",
              "      fill: #D2E3FC;\n",
              "    }\n",
              "\n",
              "    [theme=dark] .colab-df-convert:hover {\n",
              "      background-color: #434B5C;\n",
              "      box-shadow: 0px 1px 3px 1px rgba(0, 0, 0, 0.15);\n",
              "      filter: drop-shadow(0px 1px 2px rgba(0, 0, 0, 0.3));\n",
              "      fill: #FFFFFF;\n",
              "    }\n",
              "  </style>\n",
              "\n",
              "      <script>\n",
              "        const buttonEl =\n",
              "          document.querySelector('#df-6b1a6d06-5e2f-4c3c-b787-17ad82c420e5 button.colab-df-convert');\n",
              "        buttonEl.style.display =\n",
              "          google.colab.kernel.accessAllowed ? 'block' : 'none';\n",
              "\n",
              "        async function convertToInteractive(key) {\n",
              "          const element = document.querySelector('#df-6b1a6d06-5e2f-4c3c-b787-17ad82c420e5');\n",
              "          const dataTable =\n",
              "            await google.colab.kernel.invokeFunction('convertToInteractive',\n",
              "                                                     [key], {});\n",
              "          if (!dataTable) return;\n",
              "\n",
              "          const docLinkHtml = 'Like what you see? Visit the ' +\n",
              "            '<a target=\"_blank\" href=https://colab.research.google.com/notebooks/data_table.ipynb>data table notebook</a>'\n",
              "            + ' to learn more about interactive tables.';\n",
              "          element.innerHTML = '';\n",
              "          dataTable['output_type'] = 'display_data';\n",
              "          await google.colab.output.renderOutput(dataTable, element);\n",
              "          const docLink = document.createElement('div');\n",
              "          docLink.innerHTML = docLinkHtml;\n",
              "          element.appendChild(docLink);\n",
              "        }\n",
              "      </script>\n",
              "    </div>\n",
              "  </div>\n"
            ]
          },
          "metadata": {},
          "execution_count": 49
        }
      ]
    },
    {
      "cell_type": "markdown",
      "source": [
        "The proportion of total_damage v/s total_struck is highest in year 1990 and lowest in year 1992"
      ],
      "metadata": {
        "id": "7__FJJa1ZsH2"
      },
      "id": "7__FJJa1ZsH2"
    },
    {
      "cell_type": "code",
      "source": [
        "# Calculate the overall proportion of damaged strikes\n",
        "overall_proportion = df['total_damaged'].sum() / df['total_struck'].sum()\n",
        "\n",
        "# Calculate the expected number of damaged strikes for each year\n",
        "df['expected_damaged'] = df['total_struck'] * overall_proportion\n",
        "\n",
        "# Perform Chi-Square Goodness-of-Fit test\n",
        "observed = df['total_damaged']\n",
        "expected = df['expected_damaged']\n",
        "chi2, p_value = stats.chisquare(observed, expected)\n",
        "\n",
        "# Print results\n",
        "print(f'Chi-Square Value: {chi2}')\n",
        "print(f'P-Value: {p_value}')\n",
        "\n",
        "# Check if the result is statistically significant (e.g., using alpha = 0.05)\n",
        "alpha = 0.05\n",
        "if p_value < alpha:\n",
        "    print(\"Reject the null hypothesis: Proportion of damaged strikes is not constant across years.\")\n",
        "else:\n",
        "    print(\"Fail to reject the null hypothesis: Proportion of damaged strikes is constant across years.\")"
      ],
      "metadata": {
        "colab": {
          "base_uri": "https://localhost:8080/"
        },
        "id": "wttHXhvto5v2",
        "outputId": "724f3d1b-a208-4404-de0f-8697eacfdfce"
      },
      "id": "wttHXhvto5v2",
      "execution_count": null,
      "outputs": [
        {
          "output_type": "stream",
          "name": "stdout",
          "text": [
            "Chi-Square Value: 6763.611701952122\n",
            "P-Value: 0.0\n",
            "Reject the null hypothesis: Proportion of damaged strikes is not constant across years.\n"
          ]
        }
      ]
    },
    {
      "cell_type": "markdown",
      "id": "e4cc2a3d-25c7-49db-9376-faafb4e1b100",
      "metadata": {
        "id": "e4cc2a3d-25c7-49db-9376-faafb4e1b100"
      },
      "source": [
        "#### Task 7.6\n",
        "\n",
        "Briefly interpret the results."
      ]
    },
    {
      "cell_type": "markdown",
      "source": [
        "Chi-Square Value: 6763.611701952122\n",
        "\n",
        "P-Value: 0.0\n",
        "\n",
        "Reject the null hypothesis: Proportion of damaged strikes is not constant across years.\n",
        "\n",
        "---\n",
        "\n"
      ],
      "metadata": {
        "id": "Irg3ys42sghw"
      },
      "id": "Irg3ys42sghw"
    },
    {
      "cell_type": "markdown",
      "id": "1f9f802d-d85c-4fd6-981a-5a2682870a38",
      "metadata": {
        "jp-MarkdownHeadingCollapsed": true,
        "tags": [],
        "id": "1f9f802d-d85c-4fd6-981a-5a2682870a38"
      },
      "source": [
        "## Task 8 - Web scraping"
      ]
    },
    {
      "cell_type": "markdown",
      "id": "e6de8b9e-72eb-423c-81c1-413edb6ec12b",
      "metadata": {
        "tags": [],
        "id": "e6de8b9e-72eb-423c-81c1-413edb6ec12b"
      },
      "source": [
        "#### Task 8.1\n",
        "How much do airplanes cost on ebay?\n",
        "\n",
        "Analyze this link: https://www.ebay.com/sch/i.html?_from=R40&_trksid=p2334524.m570.l1313&_nkw=airplanes&_sacat=0&LH_TitleDesc=0&_odkw=planes&_osacat=0&_sop=12&LH_PrefLoc=2\n",
        "\n",
        "Create a list of the **names** of all items sold on this page. No need to scroll to the next pages.\n"
      ]
    },
    {
      "cell_type": "code",
      "execution_count": null,
      "id": "b035c48a-dbbb-46c9-bfe7-d406891ec154",
      "metadata": {
        "id": "b035c48a-dbbb-46c9-bfe7-d406891ec154",
        "colab": {
          "base_uri": "https://localhost:8080/"
        },
        "outputId": "b7c820d4-1934-4f71-97ee-e4f310747f51"
      },
      "outputs": [
        {
          "output_type": "execute_result",
          "data": {
            "text/plain": [
              "69"
            ]
          },
          "metadata": {},
          "execution_count": 44
        }
      ],
      "source": [
        "import requests\n",
        "from bs4 import BeautifulSoup as bs\n",
        "\n",
        "resp = requests.get(\" https://www.ebay.com/sch/i.html?_from=R40&_trksid=p2334524.m570.l1313&_nkw=airplanes&_sacat=0&LH_TitleDesc=0&_odkw=planes&_osacat=0&_sop=12&LH_PrefLoc=2\")\n",
        "soup = bs(resp.text)\n",
        "\n",
        "item_list = []\n",
        "items = soup.find_all(\"div\",class_=\"s-item__title\")[1:]\n",
        "\n",
        "for item in items:\n",
        "  item_list.append(item.text)\n",
        "\n",
        "len(item_list)"
      ]
    },
    {
      "cell_type": "markdown",
      "id": "b598ec93-f552-4ff4-9557-5a5f9ee6ab2a",
      "metadata": {
        "id": "b598ec93-f552-4ff4-9557-5a5f9ee6ab2a"
      },
      "source": [
        "#### Task 8.2\n",
        "\n",
        "Create a list of all the **item prices** sold on this page. Again, focus only on this first page of results."
      ]
    },
    {
      "cell_type": "code",
      "execution_count": null,
      "id": "29dcf659-e5c1-47e7-b9ea-981285743309",
      "metadata": {
        "id": "29dcf659-e5c1-47e7-b9ea-981285743309",
        "colab": {
          "base_uri": "https://localhost:8080/"
        },
        "outputId": "c9b8a478-7c03-4bc1-9d24-a531e89ab9e1"
      },
      "outputs": [
        {
          "output_type": "execute_result",
          "data": {
            "text/plain": [
              "69"
            ]
          },
          "metadata": {},
          "execution_count": 45
        }
      ],
      "source": [
        "price_list = []\n",
        "prices = soup.find_all(\"li\", class_=\"s-item s-item__pl-on-bottom\")[1:]\n",
        "\n",
        "for price in prices:\n",
        "  p = price.find(\"span\",class_=\"s-item__price\").text\n",
        "  price_list.append(p)\n",
        "\n",
        "len(price_list)"
      ]
    },
    {
      "cell_type": "markdown",
      "id": "7f308e60-87ed-49ba-b19c-da7b7252cd7b",
      "metadata": {
        "id": "7f308e60-87ed-49ba-b19c-da7b7252cd7b"
      },
      "source": [
        "#### Task 8.3\n",
        "\n",
        "Combine both lists into a dataframe and print the dataframe. It should show the item names and prices."
      ]
    },
    {
      "cell_type": "code",
      "execution_count": null,
      "id": "f55d76ea-94a4-4fd0-bfe2-883433660b0d",
      "metadata": {
        "id": "f55d76ea-94a4-4fd0-bfe2-883433660b0d",
        "colab": {
          "base_uri": "https://localhost:8080/",
          "height": 206
        },
        "outputId": "8a4ea069-7993-4417-80b3-9f191c8210b6"
      },
      "outputs": [
        {
          "output_type": "execute_result",
          "data": {
            "text/plain": [
              "                                                Item             Price\n",
              "0  Parkten WLtoys F949 2.4G 3CH Cessna 182 Rc Air...            $70.00\n",
              "1      Berkley's Stinson Reliant Airplane kit (4-19)            $30.00\n",
              "2  E-flite EC-1500 Twin 1.5m BNF-Basic w/AS3X and...           $449.99\n",
              "3  Eflite Tensor 4D ARF Profile RC Airplane (EFL2...            $50.00\n",
              "4  RC Plane Toy Roclub 2.4G Remote Control Plane ...  $23.99 to $27.99"
            ],
            "text/html": [
              "\n",
              "\n",
              "  <div id=\"df-261fb31f-9c7b-4b89-a142-2418d63cc31a\">\n",
              "    <div class=\"colab-df-container\">\n",
              "      <div>\n",
              "<style scoped>\n",
              "    .dataframe tbody tr th:only-of-type {\n",
              "        vertical-align: middle;\n",
              "    }\n",
              "\n",
              "    .dataframe tbody tr th {\n",
              "        vertical-align: top;\n",
              "    }\n",
              "\n",
              "    .dataframe thead th {\n",
              "        text-align: right;\n",
              "    }\n",
              "</style>\n",
              "<table border=\"1\" class=\"dataframe\">\n",
              "  <thead>\n",
              "    <tr style=\"text-align: right;\">\n",
              "      <th></th>\n",
              "      <th>Item</th>\n",
              "      <th>Price</th>\n",
              "    </tr>\n",
              "  </thead>\n",
              "  <tbody>\n",
              "    <tr>\n",
              "      <th>0</th>\n",
              "      <td>Parkten WLtoys F949 2.4G 3CH Cessna 182 Rc Air...</td>\n",
              "      <td>$70.00</td>\n",
              "    </tr>\n",
              "    <tr>\n",
              "      <th>1</th>\n",
              "      <td>Berkley's Stinson Reliant Airplane kit (4-19)</td>\n",
              "      <td>$30.00</td>\n",
              "    </tr>\n",
              "    <tr>\n",
              "      <th>2</th>\n",
              "      <td>E-flite EC-1500 Twin 1.5m BNF-Basic w/AS3X and...</td>\n",
              "      <td>$449.99</td>\n",
              "    </tr>\n",
              "    <tr>\n",
              "      <th>3</th>\n",
              "      <td>Eflite Tensor 4D ARF Profile RC Airplane (EFL2...</td>\n",
              "      <td>$50.00</td>\n",
              "    </tr>\n",
              "    <tr>\n",
              "      <th>4</th>\n",
              "      <td>RC Plane Toy Roclub 2.4G Remote Control Plane ...</td>\n",
              "      <td>$23.99 to $27.99</td>\n",
              "    </tr>\n",
              "  </tbody>\n",
              "</table>\n",
              "</div>\n",
              "      <button class=\"colab-df-convert\" onclick=\"convertToInteractive('df-261fb31f-9c7b-4b89-a142-2418d63cc31a')\"\n",
              "              title=\"Convert this dataframe to an interactive table.\"\n",
              "              style=\"display:none;\">\n",
              "\n",
              "  <svg xmlns=\"http://www.w3.org/2000/svg\" height=\"24px\"viewBox=\"0 0 24 24\"\n",
              "       width=\"24px\">\n",
              "    <path d=\"M0 0h24v24H0V0z\" fill=\"none\"/>\n",
              "    <path d=\"M18.56 5.44l.94 2.06.94-2.06 2.06-.94-2.06-.94-.94-2.06-.94 2.06-2.06.94zm-11 1L8.5 8.5l.94-2.06 2.06-.94-2.06-.94L8.5 2.5l-.94 2.06-2.06.94zm10 10l.94 2.06.94-2.06 2.06-.94-2.06-.94-.94-2.06-.94 2.06-2.06.94z\"/><path d=\"M17.41 7.96l-1.37-1.37c-.4-.4-.92-.59-1.43-.59-.52 0-1.04.2-1.43.59L10.3 9.45l-7.72 7.72c-.78.78-.78 2.05 0 2.83L4 21.41c.39.39.9.59 1.41.59.51 0 1.02-.2 1.41-.59l7.78-7.78 2.81-2.81c.8-.78.8-2.07 0-2.86zM5.41 20L4 18.59l7.72-7.72 1.47 1.35L5.41 20z\"/>\n",
              "  </svg>\n",
              "      </button>\n",
              "\n",
              "\n",
              "\n",
              "    <div id=\"df-c275f84a-ee5e-4b46-b5c5-3c9722fe4d45\">\n",
              "      <button class=\"colab-df-quickchart\" onclick=\"quickchart('df-c275f84a-ee5e-4b46-b5c5-3c9722fe4d45')\"\n",
              "              title=\"Suggest charts.\"\n",
              "              style=\"display:none;\">\n",
              "\n",
              "<svg xmlns=\"http://www.w3.org/2000/svg\" height=\"24px\"viewBox=\"0 0 24 24\"\n",
              "     width=\"24px\">\n",
              "    <g>\n",
              "        <path d=\"M19 3H5c-1.1 0-2 .9-2 2v14c0 1.1.9 2 2 2h14c1.1 0 2-.9 2-2V5c0-1.1-.9-2-2-2zM9 17H7v-7h2v7zm4 0h-2V7h2v10zm4 0h-2v-4h2v4z\"/>\n",
              "    </g>\n",
              "</svg>\n",
              "      </button>\n",
              "    </div>\n",
              "\n",
              "<style>\n",
              "  .colab-df-quickchart {\n",
              "    background-color: #E8F0FE;\n",
              "    border: none;\n",
              "    border-radius: 50%;\n",
              "    cursor: pointer;\n",
              "    display: none;\n",
              "    fill: #1967D2;\n",
              "    height: 32px;\n",
              "    padding: 0 0 0 0;\n",
              "    width: 32px;\n",
              "  }\n",
              "\n",
              "  .colab-df-quickchart:hover {\n",
              "    background-color: #E2EBFA;\n",
              "    box-shadow: 0px 1px 2px rgba(60, 64, 67, 0.3), 0px 1px 3px 1px rgba(60, 64, 67, 0.15);\n",
              "    fill: #174EA6;\n",
              "  }\n",
              "\n",
              "  [theme=dark] .colab-df-quickchart {\n",
              "    background-color: #3B4455;\n",
              "    fill: #D2E3FC;\n",
              "  }\n",
              "\n",
              "  [theme=dark] .colab-df-quickchart:hover {\n",
              "    background-color: #434B5C;\n",
              "    box-shadow: 0px 1px 3px 1px rgba(0, 0, 0, 0.15);\n",
              "    filter: drop-shadow(0px 1px 2px rgba(0, 0, 0, 0.3));\n",
              "    fill: #FFFFFF;\n",
              "  }\n",
              "</style>\n",
              "\n",
              "    <script>\n",
              "      async function quickchart(key) {\n",
              "        const containerElement = document.querySelector('#' + key);\n",
              "        const charts = await google.colab.kernel.invokeFunction(\n",
              "            'suggestCharts', [key], {});\n",
              "      }\n",
              "    </script>\n",
              "\n",
              "      <script>\n",
              "\n",
              "function displayQuickchartButton(domScope) {\n",
              "  let quickchartButtonEl =\n",
              "    domScope.querySelector('#df-c275f84a-ee5e-4b46-b5c5-3c9722fe4d45 button.colab-df-quickchart');\n",
              "  quickchartButtonEl.style.display =\n",
              "    google.colab.kernel.accessAllowed ? 'block' : 'none';\n",
              "}\n",
              "\n",
              "        displayQuickchartButton(document);\n",
              "      </script>\n",
              "      <style>\n",
              "    .colab-df-container {\n",
              "      display:flex;\n",
              "      flex-wrap:wrap;\n",
              "      gap: 12px;\n",
              "    }\n",
              "\n",
              "    .colab-df-convert {\n",
              "      background-color: #E8F0FE;\n",
              "      border: none;\n",
              "      border-radius: 50%;\n",
              "      cursor: pointer;\n",
              "      display: none;\n",
              "      fill: #1967D2;\n",
              "      height: 32px;\n",
              "      padding: 0 0 0 0;\n",
              "      width: 32px;\n",
              "    }\n",
              "\n",
              "    .colab-df-convert:hover {\n",
              "      background-color: #E2EBFA;\n",
              "      box-shadow: 0px 1px 2px rgba(60, 64, 67, 0.3), 0px 1px 3px 1px rgba(60, 64, 67, 0.15);\n",
              "      fill: #174EA6;\n",
              "    }\n",
              "\n",
              "    [theme=dark] .colab-df-convert {\n",
              "      background-color: #3B4455;\n",
              "      fill: #D2E3FC;\n",
              "    }\n",
              "\n",
              "    [theme=dark] .colab-df-convert:hover {\n",
              "      background-color: #434B5C;\n",
              "      box-shadow: 0px 1px 3px 1px rgba(0, 0, 0, 0.15);\n",
              "      filter: drop-shadow(0px 1px 2px rgba(0, 0, 0, 0.3));\n",
              "      fill: #FFFFFF;\n",
              "    }\n",
              "  </style>\n",
              "\n",
              "      <script>\n",
              "        const buttonEl =\n",
              "          document.querySelector('#df-261fb31f-9c7b-4b89-a142-2418d63cc31a button.colab-df-convert');\n",
              "        buttonEl.style.display =\n",
              "          google.colab.kernel.accessAllowed ? 'block' : 'none';\n",
              "\n",
              "        async function convertToInteractive(key) {\n",
              "          const element = document.querySelector('#df-261fb31f-9c7b-4b89-a142-2418d63cc31a');\n",
              "          const dataTable =\n",
              "            await google.colab.kernel.invokeFunction('convertToInteractive',\n",
              "                                                     [key], {});\n",
              "          if (!dataTable) return;\n",
              "\n",
              "          const docLinkHtml = 'Like what you see? Visit the ' +\n",
              "            '<a target=\"_blank\" href=https://colab.research.google.com/notebooks/data_table.ipynb>data table notebook</a>'\n",
              "            + ' to learn more about interactive tables.';\n",
              "          element.innerHTML = '';\n",
              "          dataTable['output_type'] = 'display_data';\n",
              "          await google.colab.output.renderOutput(dataTable, element);\n",
              "          const docLink = document.createElement('div');\n",
              "          docLink.innerHTML = docLinkHtml;\n",
              "          element.appendChild(docLink);\n",
              "        }\n",
              "      </script>\n",
              "    </div>\n",
              "  </div>\n"
            ]
          },
          "metadata": {},
          "execution_count": 46
        }
      ],
      "source": [
        "df = pd.DataFrame(list(zip(item_list, price_list)),\n",
        "               columns =['Item', 'Price'])\n",
        "df.head(5)"
      ]
    },
    {
      "cell_type": "code",
      "source": [],
      "metadata": {
        "id": "AHhr-Sh_sBl6"
      },
      "id": "AHhr-Sh_sBl6",
      "execution_count": null,
      "outputs": []
    }
  ],
  "metadata": {
    "kernelspec": {
      "display_name": "Python 3 (ipykernel)",
      "language": "python",
      "name": "python3"
    },
    "language_info": {
      "codemirror_mode": {
        "name": "ipython",
        "version": 3
      },
      "file_extension": ".py",
      "mimetype": "text/x-python",
      "name": "python",
      "nbconvert_exporter": "python",
      "pygments_lexer": "ipython3",
      "version": "3.11.0"
    },
    "colab": {
      "provenance": []
    }
  },
  "nbformat": 4,
  "nbformat_minor": 5
}